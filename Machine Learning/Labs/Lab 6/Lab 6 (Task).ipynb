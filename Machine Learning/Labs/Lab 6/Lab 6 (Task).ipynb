{
  "metadata": {
    "language_info": {
      "codemirror_mode": {
        "name": "python",
        "version": 3
      },
      "file_extension": ".py",
      "mimetype": "text/x-python",
      "name": "python",
      "nbconvert_exporter": "python",
      "pygments_lexer": "ipython3",
      "version": "3.8"
    },
    "kernelspec": {
      "name": "python",
      "display_name": "Python (Pyodide)",
      "language": "python"
    }
  },
  "nbformat_minor": 4,
  "nbformat": 4,
  "cells": [
    {
      "cell_type": "code",
      "source": "import pandas as pd\nimport numpy as np",
      "metadata": {
        "trusted": true
      },
      "execution_count": 1,
      "outputs": []
    },
    {
      "cell_type": "code",
      "source": "df = pd.DataFrame({'outlook':['sunny','sunny','overcast','rain','rain','rain','overcast','sunny','sunny','rain','sunny','overcast','overcast','rain'], \n                   'humidity':['high','high','high','high','normal','normal','normal','high','normal','normal','normal','high','normal','high'], \n                   'wind':['weak','strong','weak','weak','weak','strong','strong','weak','weak','weak','strong','strong','weak','strong'], \n                   'tennis': ['n','n','y','y','y','n','y','n','y','y','y','y','y','n']})\n",
      "metadata": {
        "trusted": true
      },
      "execution_count": 2,
      "outputs": []
    },
    {
      "cell_type": "code",
      "source": "X = df.drop('tennis', axis=1).to_numpy().reshape((-1,3))\ny = df['tennis'].to_numpy()",
      "metadata": {
        "trusted": true
      },
      "execution_count": 3,
      "outputs": []
    },
    {
      "cell_type": "code",
      "source": "classes = np.unique(y)\nn_rows, n_cols = X.shape",
      "metadata": {
        "trusted": true
      },
      "execution_count": 4,
      "outputs": []
    },
    {
      "cell_type": "markdown",
      "source": "# Task 1",
      "metadata": {}
    },
    {
      "cell_type": "code",
      "source": "def entropy(y_rows):\n    entropy = 0\n    for c in classes:\n        p = np.sum(y_rows==c) / len(y_rows)\n        if p != 0:\n            # ?????\n\n    return entropy",
      "metadata": {
        "trusted": true
      },
      "execution_count": 5,
      "outputs": []
    },
    {
      "cell_type": "code",
      "source": "# Test the entropy function",
      "metadata": {},
      "execution_count": null,
      "outputs": []
    },
    {
      "cell_type": "markdown",
      "source": "# Task 2",
      "metadata": {}
    },
    {
      "cell_type": "code",
      "source": "def get_best_split_gain(filter_):\n    if np.all(y[filter_] == y[filter_][0]): # pure subset\n        return None, None\n    \n    gains = np.zeros(n_cols)\n    \n    for j in range(n_cols): # loop over features\n        vals = np.unique(X[:,j])\n        entr_children = 0\n        \n        '''\n        ?????\n        '''\n        \n        gains[j] = entropy(y[filter_]) - entr_children\n          \n    best = np.argmax(gains)\n    return best, gains[best]",
      "metadata": {
        "trusted": true
      },
      "execution_count": 6,
      "outputs": []
    },
    {
      "cell_type": "code",
      "source": "# Test the gain function",
      "metadata": {},
      "execution_count": null,
      "outputs": []
    },
    {
      "cell_type": "code",
      "source": "class DT_Node():\n    def __init__(self):\n        self.feature = None\n        self.gain = None\n        self.filter_ = None\n        self.children = {}\n        self.leaf = False\n        self.leaf_class = None\n    \n    def print_info(self):\n        if not self.leaf:\n            print(\"feature\", self.feature, \"with gain:\", np.round(self.gain,3))\n        else:\n            print(\"class is:\", self.leaf_class)",
      "metadata": {
        "tags": [],
        "trusted": true
      },
      "execution_count": 7,
      "outputs": []
    },
    {
      "cell_type": "code",
      "source": "# First Level (root)\n\nroot = DT_Node()\nroot.filter_ = [True]*n_rows\nroot.feature, root.gain = get_best_split_gain(root.filter_)\n# root.print_info()",
      "metadata": {
        "trusted": true
      },
      "execution_count": 8,
      "outputs": []
    },
    {
      "cell_type": "markdown",
      "source": "# Task 3",
      "metadata": {}
    },
    {
      "cell_type": "code",
      "source": "def create_next_levels(node):\n    if node.leaf:\n        return\n    \n    feature_vals = np.unique(X[:,node.feature])\n\n    for val in feature_vals:\n        child = DT_Node()\n        '''\n        ?????\n        '''",
      "metadata": {
        "trusted": true
      },
      "execution_count": null,
      "outputs": []
    },
    {
      "cell_type": "code",
      "source": "# Rest of Tree\ncreate_next_levels(root)",
      "metadata": {
        "trusted": true
      },
      "execution_count": null,
      "outputs": []
    },
    {
      "cell_type": "code",
      "source": "def print_tree(node, i):\n    node.print_info()\n    for branch, child in node.children.items():\n        print('--'*i + '> if ' + branch + ', ', end='')\n        print_tree(child, i+1)",
      "metadata": {
        "trusted": true
      },
      "execution_count": null,
      "outputs": []
    },
    {
      "cell_type": "code",
      "source": "print_tree(root,1)",
      "metadata": {
        "trusted": true
      },
      "execution_count": null,
      "outputs": []
    },
    {
      "cell_type": "markdown",
      "source": "# Task 4",
      "metadata": {}
    },
    {
      "cell_type": "code",
      "source": "def classify(sample, tree):\n    '''\n    ?????\n    '''",
      "metadata": {},
      "execution_count": null,
      "outputs": []
    },
    {
      "cell_type": "code",
      "source": "classify(np.array(['rain', 'high', 'strong']), root)",
      "metadata": {},
      "execution_count": null,
      "outputs": []
    }
  ]
}