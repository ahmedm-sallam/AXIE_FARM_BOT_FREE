{
 "cells": [
  {
   "cell_type": "code",
   "execution_count": 18,
   "id": "e6d09159",
   "metadata": {},
   "outputs": [],
   "source": [
    "import pandas\n",
    "import numpy as np"
   ]
  },
  {
   "cell_type": "code",
   "execution_count": 19,
   "id": "ad139c4f",
   "metadata": {},
   "outputs": [],
   "source": [
    "# Task 1\n",
    "def predict(x):\n",
    "    x_ = np.hstack((np.ones((len(x),1)),x))\n",
    "    return np.dot(x_,theta)\n",
    "    # or return (theta*x_).sum(axis=1)"
   ]
  },
  {
   "cell_type": "code",
   "execution_count": 20,
   "id": "4e1410de",
   "metadata": {},
   "outputs": [],
   "source": [
    "# Task 2\n",
    "def mean_squared_error(y,h):\n",
    "    return ((h-y)**2).sum()/len(y)\n",
    "    # or return np.mean((h-y)**2)"
   ]
  },
  {
   "cell_type": "code",
   "execution_count": 21,
   "id": "3036c5da",
   "metadata": {},
   "outputs": [
    {
     "name": "stdout",
     "output_type": "stream",
     "text": [
      "Predictions on new data:  [ 7.332  6.578  2.982 19.57   8.086  4.954  3.33   3.736  7.738 15.162]\n",
      "Recommended City (highest profit):  Cairo\n",
      "MSE:  6.982548792564667\n"
     ]
    }
   ],
   "source": [
    "# Task 3\n",
    "theta = np.array([-3.63,1.16])\n",
    "\n",
    "data = pandas.read_csv(\"data.csv\")\n",
    "new_data = pandas.read_csv(\"new_data.csv\", names=[\"city\",\"population\"])\n",
    "\n",
    "new_x = new_data[\"population\"].to_numpy().reshape(-1,1)\n",
    "new_pred = predict(new_x)\n",
    "print(\"Predictions on new data: \", new_pred)\n",
    "print(\"Recommended City (highest profit): \", new_data['city'][np.argmax(new_pred)])\n",
    "\n",
    "old_x = data[\"population\"].to_numpy().reshape(-1,1)\n",
    "old_y = data['profit'].to_numpy()\n",
    "y_pred = predict(old_x)\n",
    "print(\"MSE: \", mean_squared_error(old_y,y_pred))"
   ]
  },
  {
   "cell_type": "code",
   "execution_count": null,
   "id": "aaf42e3b",
   "metadata": {},
   "outputs": [],
   "source": []
  }
 ],
 "metadata": {
  "kernelspec": {
   "display_name": "Python 3 (ipykernel)",
   "language": "python",
   "name": "python3"
  },
  "language_info": {
   "codemirror_mode": {
    "name": "ipython",
    "version": 3
   },
   "file_extension": ".py",
   "mimetype": "text/x-python",
   "name": "python",
   "nbconvert_exporter": "python",
   "pygments_lexer": "ipython3",
   "version": "3.11.5"
  }
 },
 "nbformat": 4,
 "nbformat_minor": 5
}
