{
  "nbformat": 4,
  "nbformat_minor": 0,
  "metadata": {
    "colab": {
      "provenance": []
    },
    "kernelspec": {
      "name": "python3",
      "display_name": "Python 3"
    },
    "language_info": {
      "name": "python"
    }
  },
  "cells": [
    {
      "cell_type": "code",
      "execution_count": null,
      "metadata": {
        "id": "YHLBVMvdDCUp"
      },
      "outputs": [],
      "source": [
        "import pandas as pd\n",
        "from sklearn.preprocessing import MinMaxScaler\n",
        "from sklearn. cluster import KMeans, AgglomerativeClustering\n",
        "import time"
      ]
    },
    {
      "cell_type": "code",
      "source": [
        "data = pd.read_csv('customers.csv')"
      ],
      "metadata": {
        "id": "DO42Ef8VFr4q"
      },
      "execution_count": null,
      "outputs": []
    },
    {
      "cell_type": "code",
      "source": [
        "data.head()"
      ],
      "metadata": {
        "colab": {
          "base_uri": "https://localhost:8080/",
          "height": 206
        },
        "id": "hjaiQfklF6bu",
        "outputId": "a667a819-7f27-4f82-88c9-13f12fac68b7"
      },
      "execution_count": null,
      "outputs": [
        {
          "output_type": "execute_result",
          "data": {
            "text/plain": [
              "          ID  Sex  Marital status  Age  Education  Income  Occupation  \\\n",
              "0  100000001    0               0   67          2  124670           1   \n",
              "1  100000002    1               1   22          1  150773           1   \n",
              "2  100000003    0               0   49          1   89210           0   \n",
              "3  100000004    0               0   45          1  171565           1   \n",
              "4  100000005    0               0   53          1  149031           1   \n",
              "\n",
              "   Settlement size  \n",
              "0                2  \n",
              "1                2  \n",
              "2                0  \n",
              "3                1  \n",
              "4                1  "
            ],
            "text/html": [
              "\n",
              "  <div id=\"df-30e1eb13-6e19-4524-bb34-d1904dff2bc9\" class=\"colab-df-container\">\n",
              "    <div>\n",
              "<style scoped>\n",
              "    .dataframe tbody tr th:only-of-type {\n",
              "        vertical-align: middle;\n",
              "    }\n",
              "\n",
              "    .dataframe tbody tr th {\n",
              "        vertical-align: top;\n",
              "    }\n",
              "\n",
              "    .dataframe thead th {\n",
              "        text-align: right;\n",
              "    }\n",
              "</style>\n",
              "<table border=\"1\" class=\"dataframe\">\n",
              "  <thead>\n",
              "    <tr style=\"text-align: right;\">\n",
              "      <th></th>\n",
              "      <th>ID</th>\n",
              "      <th>Sex</th>\n",
              "      <th>Marital status</th>\n",
              "      <th>Age</th>\n",
              "      <th>Education</th>\n",
              "      <th>Income</th>\n",
              "      <th>Occupation</th>\n",
              "      <th>Settlement size</th>\n",
              "    </tr>\n",
              "  </thead>\n",
              "  <tbody>\n",
              "    <tr>\n",
              "      <th>0</th>\n",
              "      <td>100000001</td>\n",
              "      <td>0</td>\n",
              "      <td>0</td>\n",
              "      <td>67</td>\n",
              "      <td>2</td>\n",
              "      <td>124670</td>\n",
              "      <td>1</td>\n",
              "      <td>2</td>\n",
              "    </tr>\n",
              "    <tr>\n",
              "      <th>1</th>\n",
              "      <td>100000002</td>\n",
              "      <td>1</td>\n",
              "      <td>1</td>\n",
              "      <td>22</td>\n",
              "      <td>1</td>\n",
              "      <td>150773</td>\n",
              "      <td>1</td>\n",
              "      <td>2</td>\n",
              "    </tr>\n",
              "    <tr>\n",
              "      <th>2</th>\n",
              "      <td>100000003</td>\n",
              "      <td>0</td>\n",
              "      <td>0</td>\n",
              "      <td>49</td>\n",
              "      <td>1</td>\n",
              "      <td>89210</td>\n",
              "      <td>0</td>\n",
              "      <td>0</td>\n",
              "    </tr>\n",
              "    <tr>\n",
              "      <th>3</th>\n",
              "      <td>100000004</td>\n",
              "      <td>0</td>\n",
              "      <td>0</td>\n",
              "      <td>45</td>\n",
              "      <td>1</td>\n",
              "      <td>171565</td>\n",
              "      <td>1</td>\n",
              "      <td>1</td>\n",
              "    </tr>\n",
              "    <tr>\n",
              "      <th>4</th>\n",
              "      <td>100000005</td>\n",
              "      <td>0</td>\n",
              "      <td>0</td>\n",
              "      <td>53</td>\n",
              "      <td>1</td>\n",
              "      <td>149031</td>\n",
              "      <td>1</td>\n",
              "      <td>1</td>\n",
              "    </tr>\n",
              "  </tbody>\n",
              "</table>\n",
              "</div>\n",
              "    <div class=\"colab-df-buttons\">\n",
              "\n",
              "  <div class=\"colab-df-container\">\n",
              "    <button class=\"colab-df-convert\" onclick=\"convertToInteractive('df-30e1eb13-6e19-4524-bb34-d1904dff2bc9')\"\n",
              "            title=\"Convert this dataframe to an interactive table.\"\n",
              "            style=\"display:none;\">\n",
              "\n",
              "  <svg xmlns=\"http://www.w3.org/2000/svg\" height=\"24px\" viewBox=\"0 -960 960 960\">\n",
              "    <path d=\"M120-120v-720h720v720H120Zm60-500h600v-160H180v160Zm220 220h160v-160H400v160Zm0 220h160v-160H400v160ZM180-400h160v-160H180v160Zm440 0h160v-160H620v160ZM180-180h160v-160H180v160Zm440 0h160v-160H620v160Z\"/>\n",
              "  </svg>\n",
              "    </button>\n",
              "\n",
              "  <style>\n",
              "    .colab-df-container {\n",
              "      display:flex;\n",
              "      gap: 12px;\n",
              "    }\n",
              "\n",
              "    .colab-df-convert {\n",
              "      background-color: #E8F0FE;\n",
              "      border: none;\n",
              "      border-radius: 50%;\n",
              "      cursor: pointer;\n",
              "      display: none;\n",
              "      fill: #1967D2;\n",
              "      height: 32px;\n",
              "      padding: 0 0 0 0;\n",
              "      width: 32px;\n",
              "    }\n",
              "\n",
              "    .colab-df-convert:hover {\n",
              "      background-color: #E2EBFA;\n",
              "      box-shadow: 0px 1px 2px rgba(60, 64, 67, 0.3), 0px 1px 3px 1px rgba(60, 64, 67, 0.15);\n",
              "      fill: #174EA6;\n",
              "    }\n",
              "\n",
              "    .colab-df-buttons div {\n",
              "      margin-bottom: 4px;\n",
              "    }\n",
              "\n",
              "    [theme=dark] .colab-df-convert {\n",
              "      background-color: #3B4455;\n",
              "      fill: #D2E3FC;\n",
              "    }\n",
              "\n",
              "    [theme=dark] .colab-df-convert:hover {\n",
              "      background-color: #434B5C;\n",
              "      box-shadow: 0px 1px 3px 1px rgba(0, 0, 0, 0.15);\n",
              "      filter: drop-shadow(0px 1px 2px rgba(0, 0, 0, 0.3));\n",
              "      fill: #FFFFFF;\n",
              "    }\n",
              "  </style>\n",
              "\n",
              "    <script>\n",
              "      const buttonEl =\n",
              "        document.querySelector('#df-30e1eb13-6e19-4524-bb34-d1904dff2bc9 button.colab-df-convert');\n",
              "      buttonEl.style.display =\n",
              "        google.colab.kernel.accessAllowed ? 'block' : 'none';\n",
              "\n",
              "      async function convertToInteractive(key) {\n",
              "        const element = document.querySelector('#df-30e1eb13-6e19-4524-bb34-d1904dff2bc9');\n",
              "        const dataTable =\n",
              "          await google.colab.kernel.invokeFunction('convertToInteractive',\n",
              "                                                    [key], {});\n",
              "        if (!dataTable) return;\n",
              "\n",
              "        const docLinkHtml = 'Like what you see? Visit the ' +\n",
              "          '<a target=\"_blank\" href=https://colab.research.google.com/notebooks/data_table.ipynb>data table notebook</a>'\n",
              "          + ' to learn more about interactive tables.';\n",
              "        element.innerHTML = '';\n",
              "        dataTable['output_type'] = 'display_data';\n",
              "        await google.colab.output.renderOutput(dataTable, element);\n",
              "        const docLink = document.createElement('div');\n",
              "        docLink.innerHTML = docLinkHtml;\n",
              "        element.appendChild(docLink);\n",
              "      }\n",
              "    </script>\n",
              "  </div>\n",
              "\n",
              "\n",
              "<div id=\"df-8c21f045-6218-43e7-ac74-dc6739239d43\">\n",
              "  <button class=\"colab-df-quickchart\" onclick=\"quickchart('df-8c21f045-6218-43e7-ac74-dc6739239d43')\"\n",
              "            title=\"Suggest charts\"\n",
              "            style=\"display:none;\">\n",
              "\n",
              "<svg xmlns=\"http://www.w3.org/2000/svg\" height=\"24px\"viewBox=\"0 0 24 24\"\n",
              "     width=\"24px\">\n",
              "    <g>\n",
              "        <path d=\"M19 3H5c-1.1 0-2 .9-2 2v14c0 1.1.9 2 2 2h14c1.1 0 2-.9 2-2V5c0-1.1-.9-2-2-2zM9 17H7v-7h2v7zm4 0h-2V7h2v10zm4 0h-2v-4h2v4z\"/>\n",
              "    </g>\n",
              "</svg>\n",
              "  </button>\n",
              "\n",
              "<style>\n",
              "  .colab-df-quickchart {\n",
              "      --bg-color: #E8F0FE;\n",
              "      --fill-color: #1967D2;\n",
              "      --hover-bg-color: #E2EBFA;\n",
              "      --hover-fill-color: #174EA6;\n",
              "      --disabled-fill-color: #AAA;\n",
              "      --disabled-bg-color: #DDD;\n",
              "  }\n",
              "\n",
              "  [theme=dark] .colab-df-quickchart {\n",
              "      --bg-color: #3B4455;\n",
              "      --fill-color: #D2E3FC;\n",
              "      --hover-bg-color: #434B5C;\n",
              "      --hover-fill-color: #FFFFFF;\n",
              "      --disabled-bg-color: #3B4455;\n",
              "      --disabled-fill-color: #666;\n",
              "  }\n",
              "\n",
              "  .colab-df-quickchart {\n",
              "    background-color: var(--bg-color);\n",
              "    border: none;\n",
              "    border-radius: 50%;\n",
              "    cursor: pointer;\n",
              "    display: none;\n",
              "    fill: var(--fill-color);\n",
              "    height: 32px;\n",
              "    padding: 0;\n",
              "    width: 32px;\n",
              "  }\n",
              "\n",
              "  .colab-df-quickchart:hover {\n",
              "    background-color: var(--hover-bg-color);\n",
              "    box-shadow: 0 1px 2px rgba(60, 64, 67, 0.3), 0 1px 3px 1px rgba(60, 64, 67, 0.15);\n",
              "    fill: var(--button-hover-fill-color);\n",
              "  }\n",
              "\n",
              "  .colab-df-quickchart-complete:disabled,\n",
              "  .colab-df-quickchart-complete:disabled:hover {\n",
              "    background-color: var(--disabled-bg-color);\n",
              "    fill: var(--disabled-fill-color);\n",
              "    box-shadow: none;\n",
              "  }\n",
              "\n",
              "  .colab-df-spinner {\n",
              "    border: 2px solid var(--fill-color);\n",
              "    border-color: transparent;\n",
              "    border-bottom-color: var(--fill-color);\n",
              "    animation:\n",
              "      spin 1s steps(1) infinite;\n",
              "  }\n",
              "\n",
              "  @keyframes spin {\n",
              "    0% {\n",
              "      border-color: transparent;\n",
              "      border-bottom-color: var(--fill-color);\n",
              "      border-left-color: var(--fill-color);\n",
              "    }\n",
              "    20% {\n",
              "      border-color: transparent;\n",
              "      border-left-color: var(--fill-color);\n",
              "      border-top-color: var(--fill-color);\n",
              "    }\n",
              "    30% {\n",
              "      border-color: transparent;\n",
              "      border-left-color: var(--fill-color);\n",
              "      border-top-color: var(--fill-color);\n",
              "      border-right-color: var(--fill-color);\n",
              "    }\n",
              "    40% {\n",
              "      border-color: transparent;\n",
              "      border-right-color: var(--fill-color);\n",
              "      border-top-color: var(--fill-color);\n",
              "    }\n",
              "    60% {\n",
              "      border-color: transparent;\n",
              "      border-right-color: var(--fill-color);\n",
              "    }\n",
              "    80% {\n",
              "      border-color: transparent;\n",
              "      border-right-color: var(--fill-color);\n",
              "      border-bottom-color: var(--fill-color);\n",
              "    }\n",
              "    90% {\n",
              "      border-color: transparent;\n",
              "      border-bottom-color: var(--fill-color);\n",
              "    }\n",
              "  }\n",
              "</style>\n",
              "\n",
              "  <script>\n",
              "    async function quickchart(key) {\n",
              "      const quickchartButtonEl =\n",
              "        document.querySelector('#' + key + ' button');\n",
              "      quickchartButtonEl.disabled = true;  // To prevent multiple clicks.\n",
              "      quickchartButtonEl.classList.add('colab-df-spinner');\n",
              "      try {\n",
              "        const charts = await google.colab.kernel.invokeFunction(\n",
              "            'suggestCharts', [key], {});\n",
              "      } catch (error) {\n",
              "        console.error('Error during call to suggestCharts:', error);\n",
              "      }\n",
              "      quickchartButtonEl.classList.remove('colab-df-spinner');\n",
              "      quickchartButtonEl.classList.add('colab-df-quickchart-complete');\n",
              "    }\n",
              "    (() => {\n",
              "      let quickchartButtonEl =\n",
              "        document.querySelector('#df-8c21f045-6218-43e7-ac74-dc6739239d43 button');\n",
              "      quickchartButtonEl.style.display =\n",
              "        google.colab.kernel.accessAllowed ? 'block' : 'none';\n",
              "    })();\n",
              "  </script>\n",
              "</div>\n",
              "    </div>\n",
              "  </div>\n"
            ]
          },
          "metadata": {},
          "execution_count": 10
        }
      ]
    },
    {
      "cell_type": "code",
      "source": [
        "data.drop('ID', axis=1, inplace=True)"
      ],
      "metadata": {
        "id": "VuYbRTMUGAb4"
      },
      "execution_count": null,
      "outputs": []
    },
    {
      "cell_type": "code",
      "source": [
        "numeric = ['Age', 'Income']\n",
        "data[numeric] = MinMaxScaler().fit_transform(data[numeric])"
      ],
      "metadata": {
        "id": "AnmcxqKdGSXC"
      },
      "execution_count": null,
      "outputs": []
    },
    {
      "cell_type": "code",
      "source": [
        "data.head()"
      ],
      "metadata": {
        "colab": {
          "base_uri": "https://localhost:8080/",
          "height": 206
        },
        "id": "JNR3UHwoHNwm",
        "outputId": "3e031618-dae8-4cdd-bcc3-f10cb0bc3b39"
      },
      "execution_count": null,
      "outputs": [
        {
          "output_type": "execute_result",
          "data": {
            "text/plain": [
              "   Sex  Marital status       Age  Education    Income  Occupation  \\\n",
              "0    0               0  0.844828          2  0.324781           1   \n",
              "1    1               1  0.068966          1  0.420210           1   \n",
              "2    0               0  0.534483          1  0.195144           0   \n",
              "3    0               0  0.465517          1  0.496223           1   \n",
              "4    0               0  0.603448          1  0.413842           1   \n",
              "\n",
              "   Settlement size  \n",
              "0                2  \n",
              "1                2  \n",
              "2                0  \n",
              "3                1  \n",
              "4                1  "
            ],
            "text/html": [
              "\n",
              "  <div id=\"df-09c4618c-a462-4b6d-b361-337118657583\" class=\"colab-df-container\">\n",
              "    <div>\n",
              "<style scoped>\n",
              "    .dataframe tbody tr th:only-of-type {\n",
              "        vertical-align: middle;\n",
              "    }\n",
              "\n",
              "    .dataframe tbody tr th {\n",
              "        vertical-align: top;\n",
              "    }\n",
              "\n",
              "    .dataframe thead th {\n",
              "        text-align: right;\n",
              "    }\n",
              "</style>\n",
              "<table border=\"1\" class=\"dataframe\">\n",
              "  <thead>\n",
              "    <tr style=\"text-align: right;\">\n",
              "      <th></th>\n",
              "      <th>Sex</th>\n",
              "      <th>Marital status</th>\n",
              "      <th>Age</th>\n",
              "      <th>Education</th>\n",
              "      <th>Income</th>\n",
              "      <th>Occupation</th>\n",
              "      <th>Settlement size</th>\n",
              "    </tr>\n",
              "  </thead>\n",
              "  <tbody>\n",
              "    <tr>\n",
              "      <th>0</th>\n",
              "      <td>0</td>\n",
              "      <td>0</td>\n",
              "      <td>0.844828</td>\n",
              "      <td>2</td>\n",
              "      <td>0.324781</td>\n",
              "      <td>1</td>\n",
              "      <td>2</td>\n",
              "    </tr>\n",
              "    <tr>\n",
              "      <th>1</th>\n",
              "      <td>1</td>\n",
              "      <td>1</td>\n",
              "      <td>0.068966</td>\n",
              "      <td>1</td>\n",
              "      <td>0.420210</td>\n",
              "      <td>1</td>\n",
              "      <td>2</td>\n",
              "    </tr>\n",
              "    <tr>\n",
              "      <th>2</th>\n",
              "      <td>0</td>\n",
              "      <td>0</td>\n",
              "      <td>0.534483</td>\n",
              "      <td>1</td>\n",
              "      <td>0.195144</td>\n",
              "      <td>0</td>\n",
              "      <td>0</td>\n",
              "    </tr>\n",
              "    <tr>\n",
              "      <th>3</th>\n",
              "      <td>0</td>\n",
              "      <td>0</td>\n",
              "      <td>0.465517</td>\n",
              "      <td>1</td>\n",
              "      <td>0.496223</td>\n",
              "      <td>1</td>\n",
              "      <td>1</td>\n",
              "    </tr>\n",
              "    <tr>\n",
              "      <th>4</th>\n",
              "      <td>0</td>\n",
              "      <td>0</td>\n",
              "      <td>0.603448</td>\n",
              "      <td>1</td>\n",
              "      <td>0.413842</td>\n",
              "      <td>1</td>\n",
              "      <td>1</td>\n",
              "    </tr>\n",
              "  </tbody>\n",
              "</table>\n",
              "</div>\n",
              "    <div class=\"colab-df-buttons\">\n",
              "\n",
              "  <div class=\"colab-df-container\">\n",
              "    <button class=\"colab-df-convert\" onclick=\"convertToInteractive('df-09c4618c-a462-4b6d-b361-337118657583')\"\n",
              "            title=\"Convert this dataframe to an interactive table.\"\n",
              "            style=\"display:none;\">\n",
              "\n",
              "  <svg xmlns=\"http://www.w3.org/2000/svg\" height=\"24px\" viewBox=\"0 -960 960 960\">\n",
              "    <path d=\"M120-120v-720h720v720H120Zm60-500h600v-160H180v160Zm220 220h160v-160H400v160Zm0 220h160v-160H400v160ZM180-400h160v-160H180v160Zm440 0h160v-160H620v160ZM180-180h160v-160H180v160Zm440 0h160v-160H620v160Z\"/>\n",
              "  </svg>\n",
              "    </button>\n",
              "\n",
              "  <style>\n",
              "    .colab-df-container {\n",
              "      display:flex;\n",
              "      gap: 12px;\n",
              "    }\n",
              "\n",
              "    .colab-df-convert {\n",
              "      background-color: #E8F0FE;\n",
              "      border: none;\n",
              "      border-radius: 50%;\n",
              "      cursor: pointer;\n",
              "      display: none;\n",
              "      fill: #1967D2;\n",
              "      height: 32px;\n",
              "      padding: 0 0 0 0;\n",
              "      width: 32px;\n",
              "    }\n",
              "\n",
              "    .colab-df-convert:hover {\n",
              "      background-color: #E2EBFA;\n",
              "      box-shadow: 0px 1px 2px rgba(60, 64, 67, 0.3), 0px 1px 3px 1px rgba(60, 64, 67, 0.15);\n",
              "      fill: #174EA6;\n",
              "    }\n",
              "\n",
              "    .colab-df-buttons div {\n",
              "      margin-bottom: 4px;\n",
              "    }\n",
              "\n",
              "    [theme=dark] .colab-df-convert {\n",
              "      background-color: #3B4455;\n",
              "      fill: #D2E3FC;\n",
              "    }\n",
              "\n",
              "    [theme=dark] .colab-df-convert:hover {\n",
              "      background-color: #434B5C;\n",
              "      box-shadow: 0px 1px 3px 1px rgba(0, 0, 0, 0.15);\n",
              "      filter: drop-shadow(0px 1px 2px rgba(0, 0, 0, 0.3));\n",
              "      fill: #FFFFFF;\n",
              "    }\n",
              "  </style>\n",
              "\n",
              "    <script>\n",
              "      const buttonEl =\n",
              "        document.querySelector('#df-09c4618c-a462-4b6d-b361-337118657583 button.colab-df-convert');\n",
              "      buttonEl.style.display =\n",
              "        google.colab.kernel.accessAllowed ? 'block' : 'none';\n",
              "\n",
              "      async function convertToInteractive(key) {\n",
              "        const element = document.querySelector('#df-09c4618c-a462-4b6d-b361-337118657583');\n",
              "        const dataTable =\n",
              "          await google.colab.kernel.invokeFunction('convertToInteractive',\n",
              "                                                    [key], {});\n",
              "        if (!dataTable) return;\n",
              "\n",
              "        const docLinkHtml = 'Like what you see? Visit the ' +\n",
              "          '<a target=\"_blank\" href=https://colab.research.google.com/notebooks/data_table.ipynb>data table notebook</a>'\n",
              "          + ' to learn more about interactive tables.';\n",
              "        element.innerHTML = '';\n",
              "        dataTable['output_type'] = 'display_data';\n",
              "        await google.colab.output.renderOutput(dataTable, element);\n",
              "        const docLink = document.createElement('div');\n",
              "        docLink.innerHTML = docLinkHtml;\n",
              "        element.appendChild(docLink);\n",
              "      }\n",
              "    </script>\n",
              "  </div>\n",
              "\n",
              "\n",
              "<div id=\"df-178d23e2-9ddb-4518-b431-660cb1c12915\">\n",
              "  <button class=\"colab-df-quickchart\" onclick=\"quickchart('df-178d23e2-9ddb-4518-b431-660cb1c12915')\"\n",
              "            title=\"Suggest charts\"\n",
              "            style=\"display:none;\">\n",
              "\n",
              "<svg xmlns=\"http://www.w3.org/2000/svg\" height=\"24px\"viewBox=\"0 0 24 24\"\n",
              "     width=\"24px\">\n",
              "    <g>\n",
              "        <path d=\"M19 3H5c-1.1 0-2 .9-2 2v14c0 1.1.9 2 2 2h14c1.1 0 2-.9 2-2V5c0-1.1-.9-2-2-2zM9 17H7v-7h2v7zm4 0h-2V7h2v10zm4 0h-2v-4h2v4z\"/>\n",
              "    </g>\n",
              "</svg>\n",
              "  </button>\n",
              "\n",
              "<style>\n",
              "  .colab-df-quickchart {\n",
              "      --bg-color: #E8F0FE;\n",
              "      --fill-color: #1967D2;\n",
              "      --hover-bg-color: #E2EBFA;\n",
              "      --hover-fill-color: #174EA6;\n",
              "      --disabled-fill-color: #AAA;\n",
              "      --disabled-bg-color: #DDD;\n",
              "  }\n",
              "\n",
              "  [theme=dark] .colab-df-quickchart {\n",
              "      --bg-color: #3B4455;\n",
              "      --fill-color: #D2E3FC;\n",
              "      --hover-bg-color: #434B5C;\n",
              "      --hover-fill-color: #FFFFFF;\n",
              "      --disabled-bg-color: #3B4455;\n",
              "      --disabled-fill-color: #666;\n",
              "  }\n",
              "\n",
              "  .colab-df-quickchart {\n",
              "    background-color: var(--bg-color);\n",
              "    border: none;\n",
              "    border-radius: 50%;\n",
              "    cursor: pointer;\n",
              "    display: none;\n",
              "    fill: var(--fill-color);\n",
              "    height: 32px;\n",
              "    padding: 0;\n",
              "    width: 32px;\n",
              "  }\n",
              "\n",
              "  .colab-df-quickchart:hover {\n",
              "    background-color: var(--hover-bg-color);\n",
              "    box-shadow: 0 1px 2px rgba(60, 64, 67, 0.3), 0 1px 3px 1px rgba(60, 64, 67, 0.15);\n",
              "    fill: var(--button-hover-fill-color);\n",
              "  }\n",
              "\n",
              "  .colab-df-quickchart-complete:disabled,\n",
              "  .colab-df-quickchart-complete:disabled:hover {\n",
              "    background-color: var(--disabled-bg-color);\n",
              "    fill: var(--disabled-fill-color);\n",
              "    box-shadow: none;\n",
              "  }\n",
              "\n",
              "  .colab-df-spinner {\n",
              "    border: 2px solid var(--fill-color);\n",
              "    border-color: transparent;\n",
              "    border-bottom-color: var(--fill-color);\n",
              "    animation:\n",
              "      spin 1s steps(1) infinite;\n",
              "  }\n",
              "\n",
              "  @keyframes spin {\n",
              "    0% {\n",
              "      border-color: transparent;\n",
              "      border-bottom-color: var(--fill-color);\n",
              "      border-left-color: var(--fill-color);\n",
              "    }\n",
              "    20% {\n",
              "      border-color: transparent;\n",
              "      border-left-color: var(--fill-color);\n",
              "      border-top-color: var(--fill-color);\n",
              "    }\n",
              "    30% {\n",
              "      border-color: transparent;\n",
              "      border-left-color: var(--fill-color);\n",
              "      border-top-color: var(--fill-color);\n",
              "      border-right-color: var(--fill-color);\n",
              "    }\n",
              "    40% {\n",
              "      border-color: transparent;\n",
              "      border-right-color: var(--fill-color);\n",
              "      border-top-color: var(--fill-color);\n",
              "    }\n",
              "    60% {\n",
              "      border-color: transparent;\n",
              "      border-right-color: var(--fill-color);\n",
              "    }\n",
              "    80% {\n",
              "      border-color: transparent;\n",
              "      border-right-color: var(--fill-color);\n",
              "      border-bottom-color: var(--fill-color);\n",
              "    }\n",
              "    90% {\n",
              "      border-color: transparent;\n",
              "      border-bottom-color: var(--fill-color);\n",
              "    }\n",
              "  }\n",
              "</style>\n",
              "\n",
              "  <script>\n",
              "    async function quickchart(key) {\n",
              "      const quickchartButtonEl =\n",
              "        document.querySelector('#' + key + ' button');\n",
              "      quickchartButtonEl.disabled = true;  // To prevent multiple clicks.\n",
              "      quickchartButtonEl.classList.add('colab-df-spinner');\n",
              "      try {\n",
              "        const charts = await google.colab.kernel.invokeFunction(\n",
              "            'suggestCharts', [key], {});\n",
              "      } catch (error) {\n",
              "        console.error('Error during call to suggestCharts:', error);\n",
              "      }\n",
              "      quickchartButtonEl.classList.remove('colab-df-spinner');\n",
              "      quickchartButtonEl.classList.add('colab-df-quickchart-complete');\n",
              "    }\n",
              "    (() => {\n",
              "      let quickchartButtonEl =\n",
              "        document.querySelector('#df-178d23e2-9ddb-4518-b431-660cb1c12915 button');\n",
              "      quickchartButtonEl.style.display =\n",
              "        google.colab.kernel.accessAllowed ? 'block' : 'none';\n",
              "    })();\n",
              "  </script>\n",
              "</div>\n",
              "    </div>\n",
              "  </div>\n"
            ]
          },
          "metadata": {},
          "execution_count": 14
        }
      ]
    },
    {
      "cell_type": "code",
      "source": [
        "model1 = KMeans(n_clusters=2, init='random', n_init=1)\n",
        "model1.fit(data)"
      ],
      "metadata": {
        "colab": {
          "base_uri": "https://localhost:8080/",
          "height": 74
        },
        "id": "wwPU3WNSHSLI",
        "outputId": "676bc20f-1868-455f-b177-e1590e7ee607"
      },
      "execution_count": null,
      "outputs": [
        {
          "output_type": "execute_result",
          "data": {
            "text/plain": [
              "KMeans(init='random', n_clusters=2, n_init=1)"
            ],
            "text/html": [
              "<style>#sk-container-id-1 {color: black;background-color: white;}#sk-container-id-1 pre{padding: 0;}#sk-container-id-1 div.sk-toggleable {background-color: white;}#sk-container-id-1 label.sk-toggleable__label {cursor: pointer;display: block;width: 100%;margin-bottom: 0;padding: 0.3em;box-sizing: border-box;text-align: center;}#sk-container-id-1 label.sk-toggleable__label-arrow:before {content: \"▸\";float: left;margin-right: 0.25em;color: #696969;}#sk-container-id-1 label.sk-toggleable__label-arrow:hover:before {color: black;}#sk-container-id-1 div.sk-estimator:hover label.sk-toggleable__label-arrow:before {color: black;}#sk-container-id-1 div.sk-toggleable__content {max-height: 0;max-width: 0;overflow: hidden;text-align: left;background-color: #f0f8ff;}#sk-container-id-1 div.sk-toggleable__content pre {margin: 0.2em;color: black;border-radius: 0.25em;background-color: #f0f8ff;}#sk-container-id-1 input.sk-toggleable__control:checked~div.sk-toggleable__content {max-height: 200px;max-width: 100%;overflow: auto;}#sk-container-id-1 input.sk-toggleable__control:checked~label.sk-toggleable__label-arrow:before {content: \"▾\";}#sk-container-id-1 div.sk-estimator input.sk-toggleable__control:checked~label.sk-toggleable__label {background-color: #d4ebff;}#sk-container-id-1 div.sk-label input.sk-toggleable__control:checked~label.sk-toggleable__label {background-color: #d4ebff;}#sk-container-id-1 input.sk-hidden--visually {border: 0;clip: rect(1px 1px 1px 1px);clip: rect(1px, 1px, 1px, 1px);height: 1px;margin: -1px;overflow: hidden;padding: 0;position: absolute;width: 1px;}#sk-container-id-1 div.sk-estimator {font-family: monospace;background-color: #f0f8ff;border: 1px dotted black;border-radius: 0.25em;box-sizing: border-box;margin-bottom: 0.5em;}#sk-container-id-1 div.sk-estimator:hover {background-color: #d4ebff;}#sk-container-id-1 div.sk-parallel-item::after {content: \"\";width: 100%;border-bottom: 1px solid gray;flex-grow: 1;}#sk-container-id-1 div.sk-label:hover label.sk-toggleable__label {background-color: #d4ebff;}#sk-container-id-1 div.sk-serial::before {content: \"\";position: absolute;border-left: 1px solid gray;box-sizing: border-box;top: 0;bottom: 0;left: 50%;z-index: 0;}#sk-container-id-1 div.sk-serial {display: flex;flex-direction: column;align-items: center;background-color: white;padding-right: 0.2em;padding-left: 0.2em;position: relative;}#sk-container-id-1 div.sk-item {position: relative;z-index: 1;}#sk-container-id-1 div.sk-parallel {display: flex;align-items: stretch;justify-content: center;background-color: white;position: relative;}#sk-container-id-1 div.sk-item::before, #sk-container-id-1 div.sk-parallel-item::before {content: \"\";position: absolute;border-left: 1px solid gray;box-sizing: border-box;top: 0;bottom: 0;left: 50%;z-index: -1;}#sk-container-id-1 div.sk-parallel-item {display: flex;flex-direction: column;z-index: 1;position: relative;background-color: white;}#sk-container-id-1 div.sk-parallel-item:first-child::after {align-self: flex-end;width: 50%;}#sk-container-id-1 div.sk-parallel-item:last-child::after {align-self: flex-start;width: 50%;}#sk-container-id-1 div.sk-parallel-item:only-child::after {width: 0;}#sk-container-id-1 div.sk-dashed-wrapped {border: 1px dashed gray;margin: 0 0.4em 0.5em 0.4em;box-sizing: border-box;padding-bottom: 0.4em;background-color: white;}#sk-container-id-1 div.sk-label label {font-family: monospace;font-weight: bold;display: inline-block;line-height: 1.2em;}#sk-container-id-1 div.sk-label-container {text-align: center;}#sk-container-id-1 div.sk-container {/* jupyter's `normalize.less` sets `[hidden] { display: none; }` but bootstrap.min.css set `[hidden] { display: none !important; }` so we also need the `!important` here to be able to override the default hidden behavior on the sphinx rendered scikit-learn.org. See: https://github.com/scikit-learn/scikit-learn/issues/21755 */display: inline-block !important;position: relative;}#sk-container-id-1 div.sk-text-repr-fallback {display: none;}</style><div id=\"sk-container-id-1\" class=\"sk-top-container\"><div class=\"sk-text-repr-fallback\"><pre>KMeans(init=&#x27;random&#x27;, n_clusters=2, n_init=1)</pre><b>In a Jupyter environment, please rerun this cell to show the HTML representation or trust the notebook. <br />On GitHub, the HTML representation is unable to render, please try loading this page with nbviewer.org.</b></div><div class=\"sk-container\" hidden><div class=\"sk-item\"><div class=\"sk-estimator sk-toggleable\"><input class=\"sk-toggleable__control sk-hidden--visually\" id=\"sk-estimator-id-1\" type=\"checkbox\" checked><label for=\"sk-estimator-id-1\" class=\"sk-toggleable__label sk-toggleable__label-arrow\">KMeans</label><div class=\"sk-toggleable__content\"><pre>KMeans(init=&#x27;random&#x27;, n_clusters=2, n_init=1)</pre></div></div></div></div></div>"
            ]
          },
          "metadata": {},
          "execution_count": 16
        }
      ]
    },
    {
      "cell_type": "code",
      "source": [
        "model2 = KMeans(n_clusters=3, init='random', n_init=1)\n",
        "model2.fit(data)"
      ],
      "metadata": {
        "colab": {
          "base_uri": "https://localhost:8080/",
          "height": 74
        },
        "id": "Mqg0RjUaHvFb",
        "outputId": "b81b378c-16f1-4ef3-8e40-8e5ab48546d9"
      },
      "execution_count": null,
      "outputs": [
        {
          "output_type": "execute_result",
          "data": {
            "text/plain": [
              "KMeans(init='random', n_clusters=3, n_init=1)"
            ],
            "text/html": [
              "<style>#sk-container-id-2 {color: black;background-color: white;}#sk-container-id-2 pre{padding: 0;}#sk-container-id-2 div.sk-toggleable {background-color: white;}#sk-container-id-2 label.sk-toggleable__label {cursor: pointer;display: block;width: 100%;margin-bottom: 0;padding: 0.3em;box-sizing: border-box;text-align: center;}#sk-container-id-2 label.sk-toggleable__label-arrow:before {content: \"▸\";float: left;margin-right: 0.25em;color: #696969;}#sk-container-id-2 label.sk-toggleable__label-arrow:hover:before {color: black;}#sk-container-id-2 div.sk-estimator:hover label.sk-toggleable__label-arrow:before {color: black;}#sk-container-id-2 div.sk-toggleable__content {max-height: 0;max-width: 0;overflow: hidden;text-align: left;background-color: #f0f8ff;}#sk-container-id-2 div.sk-toggleable__content pre {margin: 0.2em;color: black;border-radius: 0.25em;background-color: #f0f8ff;}#sk-container-id-2 input.sk-toggleable__control:checked~div.sk-toggleable__content {max-height: 200px;max-width: 100%;overflow: auto;}#sk-container-id-2 input.sk-toggleable__control:checked~label.sk-toggleable__label-arrow:before {content: \"▾\";}#sk-container-id-2 div.sk-estimator input.sk-toggleable__control:checked~label.sk-toggleable__label {background-color: #d4ebff;}#sk-container-id-2 div.sk-label input.sk-toggleable__control:checked~label.sk-toggleable__label {background-color: #d4ebff;}#sk-container-id-2 input.sk-hidden--visually {border: 0;clip: rect(1px 1px 1px 1px);clip: rect(1px, 1px, 1px, 1px);height: 1px;margin: -1px;overflow: hidden;padding: 0;position: absolute;width: 1px;}#sk-container-id-2 div.sk-estimator {font-family: monospace;background-color: #f0f8ff;border: 1px dotted black;border-radius: 0.25em;box-sizing: border-box;margin-bottom: 0.5em;}#sk-container-id-2 div.sk-estimator:hover {background-color: #d4ebff;}#sk-container-id-2 div.sk-parallel-item::after {content: \"\";width: 100%;border-bottom: 1px solid gray;flex-grow: 1;}#sk-container-id-2 div.sk-label:hover label.sk-toggleable__label {background-color: #d4ebff;}#sk-container-id-2 div.sk-serial::before {content: \"\";position: absolute;border-left: 1px solid gray;box-sizing: border-box;top: 0;bottom: 0;left: 50%;z-index: 0;}#sk-container-id-2 div.sk-serial {display: flex;flex-direction: column;align-items: center;background-color: white;padding-right: 0.2em;padding-left: 0.2em;position: relative;}#sk-container-id-2 div.sk-item {position: relative;z-index: 1;}#sk-container-id-2 div.sk-parallel {display: flex;align-items: stretch;justify-content: center;background-color: white;position: relative;}#sk-container-id-2 div.sk-item::before, #sk-container-id-2 div.sk-parallel-item::before {content: \"\";position: absolute;border-left: 1px solid gray;box-sizing: border-box;top: 0;bottom: 0;left: 50%;z-index: -1;}#sk-container-id-2 div.sk-parallel-item {display: flex;flex-direction: column;z-index: 1;position: relative;background-color: white;}#sk-container-id-2 div.sk-parallel-item:first-child::after {align-self: flex-end;width: 50%;}#sk-container-id-2 div.sk-parallel-item:last-child::after {align-self: flex-start;width: 50%;}#sk-container-id-2 div.sk-parallel-item:only-child::after {width: 0;}#sk-container-id-2 div.sk-dashed-wrapped {border: 1px dashed gray;margin: 0 0.4em 0.5em 0.4em;box-sizing: border-box;padding-bottom: 0.4em;background-color: white;}#sk-container-id-2 div.sk-label label {font-family: monospace;font-weight: bold;display: inline-block;line-height: 1.2em;}#sk-container-id-2 div.sk-label-container {text-align: center;}#sk-container-id-2 div.sk-container {/* jupyter's `normalize.less` sets `[hidden] { display: none; }` but bootstrap.min.css set `[hidden] { display: none !important; }` so we also need the `!important` here to be able to override the default hidden behavior on the sphinx rendered scikit-learn.org. See: https://github.com/scikit-learn/scikit-learn/issues/21755 */display: inline-block !important;position: relative;}#sk-container-id-2 div.sk-text-repr-fallback {display: none;}</style><div id=\"sk-container-id-2\" class=\"sk-top-container\"><div class=\"sk-text-repr-fallback\"><pre>KMeans(init=&#x27;random&#x27;, n_clusters=3, n_init=1)</pre><b>In a Jupyter environment, please rerun this cell to show the HTML representation or trust the notebook. <br />On GitHub, the HTML representation is unable to render, please try loading this page with nbviewer.org.</b></div><div class=\"sk-container\" hidden><div class=\"sk-item\"><div class=\"sk-estimator sk-toggleable\"><input class=\"sk-toggleable__control sk-hidden--visually\" id=\"sk-estimator-id-2\" type=\"checkbox\" checked><label for=\"sk-estimator-id-2\" class=\"sk-toggleable__label sk-toggleable__label-arrow\">KMeans</label><div class=\"sk-toggleable__content\"><pre>KMeans(init=&#x27;random&#x27;, n_clusters=3, n_init=1)</pre></div></div></div></div></div>"
            ]
          },
          "metadata": {},
          "execution_count": 17
        }
      ]
    },
    {
      "cell_type": "code",
      "source": [
        "model3 = KMeans(n_clusters=4, init='random', n_init=1)\n",
        "model3.fit(data)"
      ],
      "metadata": {
        "colab": {
          "base_uri": "https://localhost:8080/",
          "height": 74
        },
        "id": "b10kdH3BH6Wx",
        "outputId": "736122db-aac8-43c6-d22f-57e60be62562"
      },
      "execution_count": null,
      "outputs": [
        {
          "output_type": "execute_result",
          "data": {
            "text/plain": [
              "KMeans(init='random', n_clusters=4, n_init=1)"
            ],
            "text/html": [
              "<style>#sk-container-id-3 {color: black;background-color: white;}#sk-container-id-3 pre{padding: 0;}#sk-container-id-3 div.sk-toggleable {background-color: white;}#sk-container-id-3 label.sk-toggleable__label {cursor: pointer;display: block;width: 100%;margin-bottom: 0;padding: 0.3em;box-sizing: border-box;text-align: center;}#sk-container-id-3 label.sk-toggleable__label-arrow:before {content: \"▸\";float: left;margin-right: 0.25em;color: #696969;}#sk-container-id-3 label.sk-toggleable__label-arrow:hover:before {color: black;}#sk-container-id-3 div.sk-estimator:hover label.sk-toggleable__label-arrow:before {color: black;}#sk-container-id-3 div.sk-toggleable__content {max-height: 0;max-width: 0;overflow: hidden;text-align: left;background-color: #f0f8ff;}#sk-container-id-3 div.sk-toggleable__content pre {margin: 0.2em;color: black;border-radius: 0.25em;background-color: #f0f8ff;}#sk-container-id-3 input.sk-toggleable__control:checked~div.sk-toggleable__content {max-height: 200px;max-width: 100%;overflow: auto;}#sk-container-id-3 input.sk-toggleable__control:checked~label.sk-toggleable__label-arrow:before {content: \"▾\";}#sk-container-id-3 div.sk-estimator input.sk-toggleable__control:checked~label.sk-toggleable__label {background-color: #d4ebff;}#sk-container-id-3 div.sk-label input.sk-toggleable__control:checked~label.sk-toggleable__label {background-color: #d4ebff;}#sk-container-id-3 input.sk-hidden--visually {border: 0;clip: rect(1px 1px 1px 1px);clip: rect(1px, 1px, 1px, 1px);height: 1px;margin: -1px;overflow: hidden;padding: 0;position: absolute;width: 1px;}#sk-container-id-3 div.sk-estimator {font-family: monospace;background-color: #f0f8ff;border: 1px dotted black;border-radius: 0.25em;box-sizing: border-box;margin-bottom: 0.5em;}#sk-container-id-3 div.sk-estimator:hover {background-color: #d4ebff;}#sk-container-id-3 div.sk-parallel-item::after {content: \"\";width: 100%;border-bottom: 1px solid gray;flex-grow: 1;}#sk-container-id-3 div.sk-label:hover label.sk-toggleable__label {background-color: #d4ebff;}#sk-container-id-3 div.sk-serial::before {content: \"\";position: absolute;border-left: 1px solid gray;box-sizing: border-box;top: 0;bottom: 0;left: 50%;z-index: 0;}#sk-container-id-3 div.sk-serial {display: flex;flex-direction: column;align-items: center;background-color: white;padding-right: 0.2em;padding-left: 0.2em;position: relative;}#sk-container-id-3 div.sk-item {position: relative;z-index: 1;}#sk-container-id-3 div.sk-parallel {display: flex;align-items: stretch;justify-content: center;background-color: white;position: relative;}#sk-container-id-3 div.sk-item::before, #sk-container-id-3 div.sk-parallel-item::before {content: \"\";position: absolute;border-left: 1px solid gray;box-sizing: border-box;top: 0;bottom: 0;left: 50%;z-index: -1;}#sk-container-id-3 div.sk-parallel-item {display: flex;flex-direction: column;z-index: 1;position: relative;background-color: white;}#sk-container-id-3 div.sk-parallel-item:first-child::after {align-self: flex-end;width: 50%;}#sk-container-id-3 div.sk-parallel-item:last-child::after {align-self: flex-start;width: 50%;}#sk-container-id-3 div.sk-parallel-item:only-child::after {width: 0;}#sk-container-id-3 div.sk-dashed-wrapped {border: 1px dashed gray;margin: 0 0.4em 0.5em 0.4em;box-sizing: border-box;padding-bottom: 0.4em;background-color: white;}#sk-container-id-3 div.sk-label label {font-family: monospace;font-weight: bold;display: inline-block;line-height: 1.2em;}#sk-container-id-3 div.sk-label-container {text-align: center;}#sk-container-id-3 div.sk-container {/* jupyter's `normalize.less` sets `[hidden] { display: none; }` but bootstrap.min.css set `[hidden] { display: none !important; }` so we also need the `!important` here to be able to override the default hidden behavior on the sphinx rendered scikit-learn.org. See: https://github.com/scikit-learn/scikit-learn/issues/21755 */display: inline-block !important;position: relative;}#sk-container-id-3 div.sk-text-repr-fallback {display: none;}</style><div id=\"sk-container-id-3\" class=\"sk-top-container\"><div class=\"sk-text-repr-fallback\"><pre>KMeans(init=&#x27;random&#x27;, n_clusters=4, n_init=1)</pre><b>In a Jupyter environment, please rerun this cell to show the HTML representation or trust the notebook. <br />On GitHub, the HTML representation is unable to render, please try loading this page with nbviewer.org.</b></div><div class=\"sk-container\" hidden><div class=\"sk-item\"><div class=\"sk-estimator sk-toggleable\"><input class=\"sk-toggleable__control sk-hidden--visually\" id=\"sk-estimator-id-3\" type=\"checkbox\" checked><label for=\"sk-estimator-id-3\" class=\"sk-toggleable__label sk-toggleable__label-arrow\">KMeans</label><div class=\"sk-toggleable__content\"><pre>KMeans(init=&#x27;random&#x27;, n_clusters=4, n_init=1)</pre></div></div></div></div></div>"
            ]
          },
          "metadata": {},
          "execution_count": 18
        }
      ]
    },
    {
      "cell_type": "code",
      "source": [
        "from sklearn.decomposition import PCA\n",
        "import matplotlib.pyplot as plt\n",
        "import plotly.express as px\n",
        "\n",
        "pca = PCA(n_components=2)\n",
        "reduced_data = pca.fit_transform(data)\n",
        "# plt.scatter(reduced_data[:, 0], reduced_data[:, 1], c=model2.labels_, cmap='viridis')\n",
        "\n",
        "reduced_data = pd.DataFrame(reduced_data, columns=['Dimension 1', 'Dimension 2'])\n",
        "reduced_data['Cluster'] = model2.labels_\n",
        "fig = px.scatter_3d(reduced_data, x='Dimension 1', y='Dimension 2', z='Cluster', color='Cluster', labels={'Cluster': 'Cluster'})\n",
        "fig.update_layout(scene=dict(xaxis_title='Dimension 1', yaxis_title='Dimension 2', zaxis_title='Cluster'))\n",
        "fig.update_traces(marker=dict(size=4))\n",
        "fig.show()"
      ],
      "metadata": {
        "colab": {
          "base_uri": "https://localhost:8080/",
          "height": 542
        },
        "id": "pnHBGwWYIDBs",
        "outputId": "cfd3429a-1621-45ff-dca8-464b6e4829c9"
      },
      "execution_count": null,
      "outputs": [
        {
          "output_type": "display_data",
          "data": {
            "text/html": [
              "<html>\n",
              "<head><meta charset=\"utf-8\" /></head>\n",
              "<body>\n",
              "    <div>            <script src=\"https://cdnjs.cloudflare.com/ajax/libs/mathjax/2.7.5/MathJax.js?config=TeX-AMS-MML_SVG\"></script><script type=\"text/javascript\">if (window.MathJax && window.MathJax.Hub && window.MathJax.Hub.Config) {window.MathJax.Hub.Config({SVG: {font: \"STIX-Web\"}});}</script>                <script type=\"text/javascript\">window.PlotlyConfig = {MathJaxConfig: 'local'};</script>\n",
              "        <script charset=\"utf-8\" src=\"https://cdn.plot.ly/plotly-2.24.1.min.js\"></script>                <div id=\"ec4e43b5-96bc-44dc-acc2-65390e969d3c\" class=\"plotly-graph-div\" style=\"height:525px; width:100%;\"></div>            <script type=\"text/javascript\">                                    window.PLOTLYENV=window.PLOTLYENV || {};                                    if (document.getElementById(\"ec4e43b5-96bc-44dc-acc2-65390e969d3c\")) {                    Plotly.newPlot(                        \"ec4e43b5-96bc-44dc-acc2-65390e969d3c\",                        [{\"hovertemplate\":\"Dimension 1=%{x}\\u003cbr\\u003eDimension 2=%{y}\\u003cbr\\u003eCluster=%{marker.color}\\u003cextra\\u003e\\u003c\\u002fextra\\u003e\",\"legendgroup\":\"\",\"marker\":{\"color\":[0,0,1,0,0,1,0,0,2,2,2,2,0,1,0,2,1,0,0,0,0,0,1,0,0,1,2,2,0,1,0,0,0,1,0,1,0,0,0,0,0,2,1,0,2,0,1,2,1,2,1,0,0,1,0,1,0,0,0,2,0,0,0,0,0,0,2,2,0,0,0,1,0,2,0,0,0,0,1,0,0,0,2,2,1,0,0,0,0,0,0,0,2,0,0,0,2,0,0,0,2,1,0,0,0,0,0,0,2,2,0,0,0,2,0,0,2,0,0,0,0,0,1,1,0,0,2,0,0,2,0,0,1,0,2,0,0,1,0,2,2,0,0,0,0,0,2,2,0,0,1,0,0,0,0,0,0,2,0,1,0,0,0,0,0,0,0,0,0,0,1,0,0,1,0,2,2,0,0,1,0,0,1,0,0,0,0,1,2,0,0,1,0,0,0,0,2,2,0,0,1,2,0,0,1,0,1,0,2,0,0,2,0,0,1,2,0,0,2,2,2,0,0,0,0,0,0,0,0,0,0,1,1,2,1,1,0,2,0,0,2,0,0,2,2,0,0,1,0,0,2,2,0,0,0,1,1,0,0,2,0,0,0,2,1,1,1,2,0,0,0,0,0,0,2,0,2,2,0,0,0,0,1,0,0,2,0,0,2,0,2,0,0,0,0,0,0,1,0,0,2,2,1,1,1,0,2,2,0,2,1,1,0,2,1,0,1,2,0,2,2,2,1,1,0,1,0,0,0,0,0,2,0,2,0,0,2,0,0,2,0,2,0,0,1,2,0,2,1,0,2,0,0,0,0,1,0,0,2,0,0,1,0,0,1,1,0,0,0,0,0,0,2,0,0,0,2,0,0,2,0,0,2,0,1,2,0,0,0,0,0,2,0,0,0,0,0,2,2,2,0,0,0,1,1,2,0,0,2,0,0,0,1,1,0,0,1,0,0,0,0,0,1,0,0,0,1,0,0,2,1,0,0,2,0,2,2,0,1,2,0,0,0,1,0,2,0,1,0,0,0,0,0,0,0,0,0,1,0,0,0,0,2,0,0,0,2,0,0,1,2,0,1,0,2,0,1,0,1,0,2,1,2,2,0,0,0,0,1,0,0,0,2,1,1,0,0,1,2,2,0,0,0,1,2,1,0,0,0,0,0,0,0,2,1,2,1,0,0,0,0,0,0,0,2,0,2,1,0,1,1,0,2,0,0,0,0,0,0,2,0,1,1,1,1,0,0,0,2,0,0,1,2,0,2,1,0,0,1,1,0,1,2,0,0,2,2,0,1,0,2,1,2,2,1,0,2,0,0,2,0,1,0,1,0,0,1,1,2,0,2,0,2,2,0,2,0,1,1,0,2,0,2,0,0,0,0,0,0,1,0,2,0,0,2,0,0,1,2,2,0,0,0,0,0,0,0,0,0,1,0,0,0,2,2,1,0,0,0,1,2,1,0,0,0,0,0,0,0,1,0,1,0,0,1,0,1,0,0,0,0,0,0,0,2,0,0,0,1,1,1,0,0,0,1,0,0,2,1,0,2,0,0,0,1,0,0,0,0,0,0,2,0,1,0,1,1,2,0,0,2,1,2,0,0,0,0,0,0,1,0,0,0,1,0,0,0,0,0,0,0,0,2,2,0,2,2,0,2,0,0,1,2,0,2,2,0,1,0,2,0,1,0,0,0,1,0,2,1,0,0,2,2,0,0,0,1,0,1,0,2,0,1,0,0,2,2,2,0,1,2,0,0,0,1,2,0,0,0,2,0,0,1,2,2,1,1,0,0,0,0,0,2,0,0,2,0,2,0,1,0,2,2,1,2,0,2,0,0,2,0,2,0,0,0,2,0,0,0,0,2,0,1,1,0,2,2,0,0,0,0,0,0,2,2,0,2,2,1,0,1,1,0,1,0,1,0,0,1,1,0,1,1,1,0,0,0,1,0,0,0,2,0,1,1,0,0,0,0,2,0,0,0,0,0,2,0,0,0,1,0,2,0,2,0,2,0,0,0,1,0,0,1,0,0,0,0,2,2,0,0,2,0,0,0,0,1,2,2,2,0,2,0,0,1,0,1,0,0,0,0,0,0,0,2,0,0,0,1,1,1,2,0,0,2,0,2,2,0,0,0,1,0,1,2,2,0,0,2,0,2,0,2,0,0,0,1,1,1,0,0,0,0,1,2,0,1,0,0,1,0,1,2,0,2,2,2,0,1,0,0,0,0,0,1,0,0,2,0,1,1,1,2,0,0,2,0,0,1,0,2,0,0,0,0,0,0,0,2,0,0,0,0,0,0,0,0,0,0,0,0,0,0,2,2,0,0,0,0,0,0,0,0,0,0,2,0,0,0,0,0,0,0,0,0,0,0,0,0,2,2,0,0,0,2,0,2,0,2,2,0,0,0,0,0,0,0,0,0,0,0,2,0,0,0,0,0,0,0,2,0,0,0,0,0,0,0,0,0,0,0,0,0,0,0,0,0,0,0,2,0,0,0,0,0,0,0,0,0,0,0,0,0,0,0,0,0,0,0,0,0,0,0,0,0,0,0,0,0,0,0,1,0,0,0,0,0,0,0,0,0,0,0,0,0,0,0,0,0,0,0,0,0,0,0,0,0,0,0,0,0,0,0,0,0,0,0,0,0,0,0,0,1,0,0,0,0,0,0,1,1,0,0,2,0,1,0,1,0,1,0,0,0,1,0,1,0,0,0,0,0,0,0,0,0,0,0,0,1,0,0,0,0,0,0,0,0,0,0,0,0,0,1,0,0,0,0,0,0,0,0,0,0,0,0,0,0,0,0,2,0,0,0,0,0,0,1,1,0,0,0,0,0,2,0,0,0,1,0,0,0,0,0,0,0,0,0,0,0,0,0,0,0,0,0,0,1,0,0,0,1,0,0,0,0,0,0,0,0,0,0,0,0,0,1,0,0,0,0,0,1,2,0,1,2,0,2,2,0,0,2,0,1,2,0,2,2,0,2,1,0,2,0,2,2,2,0,2,1,0,2,2,2,2,2,2,2,1,2,2,2,0,0,2,0,2,2,1,0,0,1,0,0,2,0,2,1,0,2,2,2,0,2,2,1,0,0,2,1,1,2,0,2,2,2,2,2,1,0,2,2,1,0,0,2,1,0,1,2,2,2,2,2,2,2,2,1,2,0,2,2,2,1,0,0,2,1,2,2,1,2,2,2,2,0,0,2,1,2,0,0,0,0,2,0,0,0,0,2,0,2,0,2,1,2,1,2,0,2,0,0,2,2,2,2,2,2,2,2,1,2,0,0,2,2,2,2,2,2,2,2,2,0,2,0,0,0,0,1,2,2,2,2,2,2,0,2,2,2,1,2,0,1,2,0,2,1,0,0,2,0,1,2,0,1,2,0,2,1,0,2,0,1,2,2,0,2,1,0,2,2,1,2,2,2,1,1,2,2,2,0,0,2,0,2,2,1,0,0,1,0,0,2,0,2,1,0,2,2,2,0,2,2,1,0,0,2,1,1,2,0,2,2,2,2,2,1,0,2,2,1,0,0,2,1,0,1,2,2,2,2,2,2,2,2,1,2,0,2,2,2,1,0,0,2,1,2,2,1,2,2,2,2,0,0,2,1,2,0,0,2,1,1,2,2,2,2,1,1,2,2,2,2,1,1,1,2,2,1,2,1,2,2,1,1,1,2,1,1,1,1,2,2,2,1,2,1,1,1,2,2,1,1,1,1,2,1,1,2,2,2,1,1,1,2,1,1,2,2,2,1,2,1,1,1,2,2,2,2,2,2,2,1,1,2,1,1,2,2,1,1,2,1,2,1,1,1,1,2,2,2,1,1,2,1,1,2,1,2,2,1,1,1,2,1,1,1,2,2,2,1,2,2,1,1,2,2,1,1,2,2,2,1,1,1,1,1,1,2,1,2,2,2,1,1,2,1,2,2,2,1,1,1,1,1,2,1,2,1,1,2,2,1,1,2,2,1,1,1,2,1,2,1,2,1,1,2,1,1,2,2,1,1,2,1,1,2,1,2,1,2,2,2,1,1,1,2,1,2,1,1,1,1,2,2,2,2,1,2,2,1,1,2,2,2,1,1,2,2,1,2,1,1,1,1,1,1,2,1,2,1,2,2,2,2,2,1,2,2,1,2,1,2,2,2,2,1,2,1,1,2,1,2,2,1,2,1,2,2,2,2,2,1,1,2,2,2,2,1,1,2,2,2,2,1,1,1,2,2,1,2,1,2,2,1,1,1,2,1,1,1,1,2,2,2,1,2,1,1,1,2,2,1,1,1,1,2,1,1,2,2,2,1,1,1,2,1,1,2,2,2,1,2,1,1,1,2,2,2,2,2,2,2,1,1,2,1,1,2,2,1,1,2,1,2,1,1,1,1,2,2,2,1,1,2,1,1,2,1,2,2,1,1,1,2,1,1,1,2,2,2,1,2,2,1,1,2,2,1,1,2,2,2,1,1,1,1,1,1,2,1,2,2,2,1,1,2,1,2,2,2,1,1,1,1,1,2,1,2,1],\"coloraxis\":\"coloraxis\",\"symbol\":\"circle\",\"size\":4},\"mode\":\"markers\",\"name\":\"\",\"scene\":\"scene\",\"showlegend\":false,\"x\":[1.29774324548789,0.9393107780753531,-0.8686764651751966,0.4895838252151186,0.4870047342018012,-0.8587395902463928,0.4895030060352101,1.0187036079493552,-0.9421031379453882,0.09605190463140471,-0.6834583905065169,-0.6776768082334353,0.9252241933512331,-0.8568258415276294,0.12177391602298146,-1.213764953528759,-0.32608999853594606,1.2727100724270226,1.5230851481128558,0.4669205102858432,0.4737763992065446,0.4809123158431806,-0.869098054377003,1.2819327374718195,1.1535830854966773,-0.8825325610376138,-0.9886136823414005,0.15555561168137974,0.4652681020834335,-0.29806807450425227,0.3732884375118716,0.4562297980576138,1.2775897479446916,-0.8592791626272126,0.6704465957263922,-0.8834181009147533,1.271730178354195,0.4699305059939084,0.4671189460527731,0.44513427723420784,1.0004912959083043,-0.4477655784798533,-0.8569013298463235,0.36432330702911525,-0.3693845179241846,0.6659364301182773,-0.32987822205311795,-1.2270492752749,-0.8610603757743178,-0.6767900724618482,-0.8876219621842053,1.8113722599019244,1.2508281030565864,-0.3475190852904141,0.4900391185738038,-0.8982770052835003,1.8374829286678995,0.15066560714522367,0.6631373183540442,-1.2103743818573498,1.1553040170427085,0.4766452396058423,1.0306976583962757,1.2961233378368264,0.12571206306688235,0.48359610701047645,-0.6801065191436849,-0.4472820134896536,1.2682381069888682,0.927531246391974,0.14517350347338626,-0.8757280256166028,1.8165399642814566,-1.1873009575084137,1.8093908228475033,1.8359855718363522,0.46723619404222805,1.293159889396907,-0.8539655381466698,0.35347499174926206,0.9607669763006833,0.47896688447295416,-1.219945210570145,-1.1887195748931851,-0.8653103912232948,0.6606729875742003,0.9287871216298035,0.5140879540709694,1.800938025425145,1.2529955822288208,0.476004406273535,0.47677151535525547,-1.218954434666618,0.45474771371421097,1.2982825188929845,0.5350118833,0.15798653358013526,1.275687166943867,0.4667920796442215,1.8251766375268486,-0.9789689824839666,-0.3541085021506959,0.11671067490074154,0.46456172021361786,0.34955563356909125,1.8435226359032164,1.8229018519920894,1.275527313032948,-0.6613856912392888,-0.43896904193499076,0.3583232948339302,0.12011314192839574,0.7345795841879593,-0.6653921096276217,0.36412155805506685,0.4775289723887735,-0.12516046922843582,0.9284641269460897,0.13562157267989136,0.9082082924071975,0.9257351951248152,1.4894201645715026,-0.896887001791012,-0.31149929799447584,0.9308084324017699,0.45278988869486747,-0.9868425443678488,1.2562757806242681,1.8067029700352168,-0.6758393075139781,0.9492342909602843,1.2724521016511467,-0.8912044032733247,0.4724072473626721,-0.6570683089158559,0.9353595585663075,1.2897789640766377,-0.8408433267079745,0.46716107432110077,-1.194713868835598,-0.9888141094171843,0.6754429043422675,1.7975070178269834,0.4467863582783523,0.9254158371149966,0.46496394323998336,-0.670473535965083,-0.6558779219906864,0.4614581506302116,1.2890192524923367,-0.3347968780610952,1.2694629990309994,0.4654658721228179,0.9648845840191191,1.829406026981157,0.11428561418993355,0.47557680169742167,-0.9785975470276393,1.2820966097426842,-0.8826239818664903,0.4700173405481237,0.12243032651621923,1.2745980673069832,1.8611266980334664,1.2734640714640588,0.4663557105416347,0.9305722628752758,0.9370370511969306,0.12736634228828062,1.1606018895362267,-0.3485745616350024,0.11794245105336162,1.4754529282012603,-0.3440713797959507,0.4533949532396664,-0.09877949996224877,-0.43608571121364037,1.2858279326419995,0.9911524208906531,-0.3164238339843916,1.1794665522712688,0.9005590404273575,-0.8781059374163313,1.2996216014081303,0.46212355130386956,0.45123200581430806,0.7255050307813289,-0.8568326899043249,-0.46217629740860716,0.1351388125010933,1.843769822652777,-0.8688399745455578,1.2770980126879763,0.35113502812030484,1.2604937542212111,1.473643823262946,-0.6835291138731361,-0.678270347865299,1.2733867535656773,0.9089253304537659,-0.3227216718790056,-0.9968782658054903,0.4588671191298594,0.3401607266697659,-0.8803689535902177,1.8353973724626984,-0.3365355040807274,1.2552484668556245,-0.9848516188401354,1.2964628931702866,1.2687210025600346,-1.1935726541726674,0.48570180971146604,0.23276722049896656,-0.32491521326276107,-1.2052126477213356,1.2620714658278447,0.4583608032895128,-0.9935866327586873,-0.6416976749753894,-0.9964982257145567,0.11668437763827784,1.2534819602875236,0.45731855358798545,0.4609387265909246,0.45170854190465515,0.49510061837235997,1.0346110839124667,0.4436246921826425,1.2542291861153843,1.2672129932432226,-0.8565438694793743,-0.3384542395541932,-0.9966112127418721,-0.8766619554300589,0.18457998258666974,0.7467550320989274,-0.9490661000234164,0.127625967817749,0.4670366526424292,-0.6841421117877642,0.47470679200467925,0.455447012156389,-0.6850495544186032,-1.1996275926166577,1.2508153840949483,1.2780084489104755,-0.3414649516578254,0.4546353867089341,0.9185678251905953,-1.1955238113384732,-1.1917499709335282,0.12363681893192167,1.2784751524294624,0.4501853785522642,-0.8730577921103971,-0.8792107590035091,1.1565023222436486,0.12959613195842504,-1.1870197751775018,0.4486369126689647,0.9565831882052439,1.0112896473628312,-1.186416293918708,-0.8915130599756013,-0.3424881135198992,-0.3287086473428381,-0.6741697407103767,1.7355979872629257,0.44474787766245494,1.2615384634877327,0.13879460010518158,1.8416028417734152,0.457044670941663,-0.9558673222373092,0.4564155073116541,-0.6820199537926664,-0.9720820013119962,0.9408667335633961,1.7989325907898324,0.46414056722564645,0.47375201054260735,-0.8647432936432579,1.2953215318722477,1.1766881643060905,-0.3800532183431438,1.263045525049523,1.8219740390572594,0.1473937107171718,0.3694838828502199,-0.4600785374744419,0.9146670014297645,0.6950439619023231,0.495454041585372,0.9269152505862964,0.9557424279357684,0.9304235258544431,-0.8748255039699416,0.4705635770825488,1.2783733480543138,-1.2057905199306906,0.1498963431712945,-0.8757170159363422,-0.33409332805377323,-0.30028828174803784,0.3664249838189076,-1.2140432776603787,-0.9884524877466704,0.9259385085908777,-1.0011691872831046,-0.8731365052203747,-0.34147101971417343,0.13356200536443544,-0.9971929378820735,-0.8873056616908278,1.260921069218597,-0.8828980186991721,-1.1862399377371475,1.2552375568339385,-1.21513419563421,0.09288689144052668,-0.4519844565467723,0.19659361916591464,-0.3389356947829738,0.9329037497107429,-0.8733669752880876,1.2916821017494378,0.9462813745474885,0.46725957102636345,1.2558794394255852,1.055088926220184,-0.67568682476368,0.6830333113719311,-1.1877424732491253,0.45296930239286876,0.9115004933687161,-1.220626199647473,0.923048291913294,1.2628313560895597,-0.9891821996240875,0.13518195429496688,-1.216162947899495,1.1684209031658659,1.0088667848292774,-0.8673466003401625,-1.2029820532397892,1.2508447934016371,-1.2163061039141119,-0.8786034511506668,0.467968006284069,-0.6884352314426325,0.9294823584269906,1.0064036029673478,0.4641187565792693,1.2817533783016029,-0.8964393503776837,1.2805322583257353,1.7999840130406815,-0.45926782589395854,0.9257950629975332,1.2956561962582605,0.2068516967782825,0.13760987320506685,1.1481722259758442,-0.9037754684361567,-0.3440102276129501,0.4556835521261935,0.9289049939075024,0.4726677058945289,0.9507764763816038,0.46616416459070126,0.47311249910856457,-0.6855112091038517,1.8726209669469536,1.5488809022000538,0.14994611707646788,-0.44898206705027033,0.4589889966790206,1.066879332191457,-1.1940014264606862,1.271275975694151,1.5140651083210968,-0.6865092677521654,1.2579589445226862,-0.8825476662509153,-0.6834406509021262,0.11467172418295911,1.024509424700015,1.2680713783644555,0.12103435278021313,1.6943152614128456,-1.2142125861480952,1.0073553720437685,0.9314514996451249,1.7978113590393356,1.2983032915227617,1.4976988509660882,-0.43327205275382535,-0.4338745298840688,-1.189243231703625,1.1632041018430015,0.3525499900371898,0.4711002724700855,-0.8973285833022476,-0.3304253818515102,-0.4575214470276548,0.4695417089277529,1.151205833718987,0.09387859060802106,1.166788759903366,0.11949904962363878,1.8219066703370592,0.20170715697725372,-0.8692294410307468,0.12791515684026578,1.2793902482483985,-0.881323155894835,0.14004777133007867,0.6758869190817,0.12806338802541956,0.9391949234517517,0.4555037134570966,-0.8710954559839125,1.8073446081789255,0.9317261607660511,1.1544396616779584,-0.35133414949371067,1.2876278650309916,0.4413195026096389,-1.2032385046544398,-0.8371753992997022,1.827717274525272,1.805503750967305,-0.45071136633422176,1.2536366506120706,-0.45664259949510755,-0.993023171852546,0.142943659275457,-0.8553769385571794,-1.2297869640713965,1.0029693385355976,0.12424579093535232,1.2617825663840554,-0.880200359652324,1.4816456334195485,-1.2054475686713413,0.1285090763124359,-0.3385626854376369,1.5000157102413907,0.39915667692910756,1.8247117729845446,0.1198173941079111,0.4633609272566965,1.8071804557263287,1.2675757638316505,1.4699794780007849,0.4688180763494229,-0.3389723698862023,0.9227158257045356,1.2677466556053727,1.2740252345343717,0.4618005566201559,-0.13195565157696765,1.2687159273894975,1.2659969917229377,0.494597328165979,-1.2197343981023447,0.47100683398711285,0.12437222087112462,-0.8728004023377206,-0.44961962475499745,0.9195035282102093,-0.8969167006764283,1.8034667088480492,-0.4503113884616435,0.9307322634213023,-0.34729314696957725,1.2693522665544663,-0.8734222023583597,0.46811904869198145,-1.2158964194655466,-0.3559389833672957,0.1731658546150361,-0.6695546117063539,1.2813794626405457,1.816147594466186,1.2855916277231374,0.9697165108285182,-0.8787602399938941,0.4537293280469516,0.448639400424946,1.507618845629688,-0.6803639558928946,-0.34299534322721764,-0.8774668321593927,1.1512369711010455,1.82486454531357,-0.34032230789524903,-0.9890016012743783,-0.44696691644197484,0.12641313471521842,0.47924508260920134,1.1864778366693451,-0.3357518945741094,-0.6876411105486256,-0.895699552083973,1.2841510116260242,1.8272554732049158,1.1532497599487321,1.8395889303446122,1.2500992956491455,1.8060249857922877,1.262319205398063,-0.4639683321615641,-0.3257457272325207,-0.6780261189736038,-0.8790247150399523,0.13572934914430157,1.2761019077689781,1.2637551525101884,1.286300361956566,0.12396617309645462,0.4942314473790693,0.1285548506516545,-1.221138739576271,1.2798189133265916,-0.6758663738540496,-0.8767938309796787,0.3535332669389792,-0.8803834457580145,-0.34716979334423664,0.13325077064459914,-0.44539532926521763,0.35043056424601127,1.2567501185373608,0.3613876055910403,0.7113142066081185,0.13987102591121625,1.82975727265665,-1.1900732661745044,0.3469784699482916,-0.3161663878381861,-0.3379694880665413,-0.06825969593151371,-0.855758597667912,0.4667656281953987,0.9369850527692606,1.2579717988766925,-1.2274905672074083,0.483845674314638,0.11602901640437988,-0.8643005632141085,-0.43394758497456615,1.2624894277527516,-0.09857017296762363,-0.35907061586807254,0.9373518586658817,0.939464065637054,-0.35050947037510016,-0.8871486377966581,0.47733086948561626,-0.8976002677713164,-0.6788630732887658,0.4999787181552752,1.8185291617338004,-0.6798857462549633,-0.45025324866429417,0.4763349375469688,-0.32873012327969836,0.14164284270079697,-1.2199979498844358,-0.3280585963304196,-0.13430448877952358,-1.2286871988607646,-0.893416498469868,0.12267452907111644,-0.6764301149419226,0.9331301130026752,0.3546604783299891,-0.997620651513757,0.452380204246302,-0.862360831302663,0.11995070815417254,-0.8789373464590715,0.6883713734985194,0.9219537015317731,-0.33997095316418574,-0.901088175987334,-0.9740012708121275,0.48975652408304865,-1.1931216744581628,0.9492224652258823,-1.200246280593071,-1.221305895017523,1.8074019788986666,-1.2118805389491643,0.1174622425553253,-0.8703079653554611,-0.34945671868317973,1.2653976642164575,-0.6574163823222756,0.930237987726565,-1.211712804350457,1.4712448247636596,0.12295013979280799,0.45699968447404327,1.0474891567210454,0.963109074182114,1.2654341551050403,-0.336800883596762,0.11884072113487894,-1.1887054080379094,0.9477310559925427,0.9288470891610959,-0.6874848463350686,1.047128604949606,1.8189665837872155,-0.33626586360255334,-0.6755941459613201,-0.9740805518368201,0.4580596549859698,1.2579011751686475,1.170160179810541,0.923146651380444,0.49533105655759807,0.4617421272440793,1.278766819810965,0.4572356452863931,0.4782953763176664,-0.8448157043841681,0.9342614856972504,1.2735954581178028,0.44741513267105937,-0.689594420760896,-1.2212483795084186,-0.33472731300938535,0.9359598017855029,0.48828445837983964,0.12738746472163298,-0.3487685013888504,-1.2344713685484017,-0.8779577062311775,1.8224116924701281,0.3538589844296169,0.8910473105096723,1.274189533622076,1.1669853246513076,0.9342169242007266,0.4671131112016239,-0.881200326899164,1.835934517312385,-0.8768720984788254,0.4716571182047299,1.8383261709962937,-0.3423141097019517,1.2568770731028032,-0.8766447404553382,0.49000337042603037,0.13384119823223758,1.2893945163884564,0.3492293914487839,0.3419290421778194,0.4758951555786895,1.804987438972243,-1.1920691935509788,1.806818971293927,0.4822971181697596,0.12797488932061576,-0.32719141850017097,-0.3234844203400121,-0.8820875854546768,0.4698311442439517,1.0328859101982866,1.1608807119607183,-0.059947863897769606,0.6680296677025621,1.2753917632298948,-0.4398018800773771,-0.8494685013772302,0.9253949854663808,0.15202641574223022,0.46448076564134105,1.1578958082236732,0.3817032679694677,-0.8571523056103958,0.47546837460796887,0.45366558844939536,1.2679373948991604,0.46874759743074135,1.2773847609310451,1.1491801265925132,-1.2126299441602881,0.46192392148823624,-0.8646947062355372,0.4515390340997897,-0.32353238345948915,-0.35359143047502206,-1.2241441602524152,0.4464339542879495,1.0099488913001022,-1.212419656322158,-0.31974791321458973,-0.651169653479414,0.4762813746272849,0.9371862677166435,0.1496217384238976,0.46925980449576676,0.12715581000221227,0.1214908514303414,-0.8762421751682044,1.802026211195057,0.9325624907929689,1.0110833572449114,-0.8980238200994344,1.8346149231167348,0.5096093847040576,1.274942573661351,1.7958036265681945,1.2682374845463682,0.37342237584637705,1.0027993606288472,0.936910955970675,-1.2255562809098106,-1.167700153793292,0.9245472207881066,-1.1950859661597073,-0.9646461398175168,0.12065073054316883,0.17337509319382674,1.1794861459464008,0.4771949510849963,-0.8988456222247618,-1.2013280635971186,0.9444209236607362,-0.6691221764076415,-1.2192731683881919,1.4962038332498395,-0.8692427748836338,1.8291998816526007,-1.2064436529506037,0.45973883810397953,-0.8970756331691243,0.4708614234217131,1.2611265451281195,1.0295176399148755,-0.8932439331485618,0.12089703161674561,-1.2138721151019203,-0.3459472348717276,0.46334098947505215,0.9474833051795845,-1.2272534480801494,-1.2201562674858832,0.9383821942171721,0.4916836836679634,0.12494437482770716,-0.8480973055424627,0.46904156264807223,-0.35389730984258955,0.4576034440688246,0.16595726088246462,0.9257761744752286,-0.8954537756400662,1.829936588541821,1.1602550402152414,-0.9823714946424102,-0.9870949510773113,-0.6759858651515479,1.2640701160112429,-0.852698303425004,-0.6807088966153536,1.4837362835892776,1.8100119534491088,1.2873662575812208,-0.8455777928231363,-0.6862267729199847,1.2737521115686612,0.1258785584860965,1.0279344620546589,0.1772711101236557,0.460400902925209,1.3075646362363993,-0.8888131482237138,-1.22017233354269,0.13338560914969166,-0.8650301209051664,-0.32778275055778544,0.46688483931116487,0.4917058290238572,0.462585262362647,0.9440636871019903,1.8242109460430909,-0.458725451687376,1.189408598329251,1.2718609049859004,-0.6813820877152206,0.4937162843019218,-1.2272348942673614,0.37382218828985647,-0.88988665375142,1.2826107498972898,-1.1944530398604305,-0.6777926177262485,-0.34671620926692936,-1.2125220229065141,1.2756754088257336,-0.9966106881122023,1.2952004121579548,1.8491902984880197,-1.2290432395250628,1.1528614517784528,-0.9951764127019168,0.47159038686125787,1.2872829600423263,1.2830112166657441,-0.6330327582894689,0.3919539180476854,0.11870922542556521,1.755926859344612,1.151256519645388,-0.45911103705073164,1.1608756913179663,-0.33581358078377527,-0.8748371736722403,0.8998149266437218,-0.4548389044368474,-0.6707891200628934,1.274888929877084,1.298049570466286,0.4825251456122804,0.48003838929481113,0.9219713414775891,1.2882902212766927,-0.6512261648599684,-1.215112819355924,0.470396167796363,-0.6913348651174759,-1.2284584023406357,-0.3105319874909186,1.1780439259235471,-0.3435069674433,-0.8894011331861602,0.924307279195349,-0.33153160620153577,1.2822629961063283,-0.3340641895318204,1.3165989613275546,0.3474875085955624,-0.31920038481863083,-0.8610624949327328,1.1603281422822724,-0.329765334684377,-0.34512566964308705,-0.8908352732040773,0.49920103376138536,1.1624016677388596,0.9409939213340368,-0.35029372752612675,0.9361096068596662,1.2636727706840096,0.47551776867283596,-0.45479175552576795,0.936549885266629,-0.8673697931096517,-0.8945793244620269,0.9315755960112752,0.9292901900335568,1.2775336051617032,1.2861999584985213,-0.6894244428541456,0.9718293702789216,1.280720130023236,1.2566197717459615,0.9217596602736068,0.7238754290512734,0.15370194524654193,1.8057223162817762,0.45575135336874095,0.9858645896826392,-0.32730152853420325,1.8263715956326207,-0.4092328354168123,0.4662910194975691,-1.1896887507102238,0.3778051506752149,0.1469767529208155,0.4665855187415654,0.49313277086150326,1.818966057311801,-0.32027521609592063,1.8135471459685741,0.4710216947524763,-0.8781970235356905,1.2813802411151491,1.2540788921453447,1.8188291084373887,0.6636222579161051,-0.6630867395314606,-1.2144914179695823,1.2801747979587867,1.2761524489060156,-0.4313933733668062,1.300495347433342,0.35857670567194294,0.998359818728777,1.783875982152225,-0.8904766451252231,-0.4477121697465288,-1.1934596671453521,-1.2082367012291066,0.13690191744624156,-1.2103847127215817,0.12722643371025746,1.1691481272873019,-0.3482162852139123,0.7210106377999739,-0.34381600398588247,1.880721217435289,1.1652453597936079,1.8128990580824664,0.12310405164275191,1.0451430272313542,0.9215658183325892,0.45542003607789605,-0.41074874421540336,0.46738440643339085,0.9196597924237664,1.2972547895502413,-0.31847157741118964,-0.8764170928531235,-0.8969542784038892,-0.6849156160840978,1.2551431236194108,1.2775449852852747,-0.687593437007876,0.9976546327534088,-1.2175338729495258,0.08763768721931313,0.48481197129264925,1.8303477905058672,1.8188084899939714,-0.8913884032459869,1.2550827311170227,-0.8769481320669242,-0.6610966582488753,-0.6472893999391799,1.2710083547158175,1.0052147147636679,-0.9765357815349297,0.4630157890628331,-0.9845886104817053,1.252777930781321,-0.6627041571567606,0.6887354678309565,0.9294709783034188,0.7034660487594632,-0.8576390841491395,-0.879339911746205,-0.8660889161623802,1.2686024627090458,0.35084000424663875,0.37587932237711585,1.2617490954323753,-0.3331129450850696,-1.0005971687188906,0.9292495002618708,-0.8833083613240318,1.4999927600740945,1.172622936701375,-0.8707413239181406,1.256506549667704,-0.8569805112124418,-1.2312731739845706,0.47971722234504066,-0.6744361149579661,-1.1761420505909592,-0.6406483606402156,1.2776413816261134,-0.8690309676842789,1.1576399096296794,0.4977652201958842,1.81239116835311,1.4804195473287143,0.4688665659443139,-0.8907268724514229,0.924443551099477,0.37414405469539114,-0.6370345019873063,1.00420972871982,-0.8676855802160995,-0.8746051109215264,-0.879162416043726,-0.9979601372253729,1.8019140383761383,0.47637379018771614,-1.217712038071039,0.9044991318035783,1.265864202306346,-0.35954403991419376,0.4655471068768264,0.15915471492456307,1.8360782863725065,0.9253020503738861,1.756874277197314,0.6483395937378662,0.7248049632615432,0.49218182924179465,0.39930748613182165,0.15332714205531145,1.4907299280415378,1.2950198138082458,1.7205316796005834,0.6959105699721123,1.1913527265952044,0.37885564966209645,1.4901864312622832,1.2978307043303474,0.49682175308685905,1.4997362277948607,1.0467636512779823,0.9512102768636258,0.3788951547820747,0.5348552392461369,-0.36508920009206236,0.17118318022686568,1.5073554292399647,0.9740567418149282,1.8623551270909187,1.5239338266581013,1.88067402339342,1.030039764275607,0.4204360437818286,0.4917425906971764,1.0665985109068599,0.9624870936383173,0.17940679189179384,1.3145503040337854,1.8728716643750378,1.1912363473419316,1.1798495841081182,0.9713004013928139,1.5492218264083115,0.9674318381946138,0.9730511051460377,1.294658951818344,0.948364414814166,0.6872632950777523,0.949107904309557,1.4985023437265654,0.15089898809426913,0.15863909114252633,0.49370896397759756,1.7369966386750664,1.2987763489768913,0.16827000398499087,1.500883467229094,0.15027096398517903,1.1889702097352677,0.17547257294625995,0.1582188407787869,1.727898030571138,0.5107325250530809,1.0543163715246155,0.3944890981895212,0.712019294770656,0.705210120392943,0.9576653492038534,1.1752368432099467,0.9106223603859916,1.305211727991857,0.3842210432164297,0.15766253476787115,1.8354406196122097,0.9246429622045139,1.7562525317044602,0.6503622884786889,0.7227093018460575,0.49137800177180024,0.3987478066889395,0.15509043692061283,1.492600329952216,1.2944573118998657,1.7208880004466136,0.6958647147683105,1.1906420931602444,0.37882198879026324,1.4882594634432662,1.2965331803230706,0.4961551565187534,1.4987275581005834,1.0455874369051514,0.9495872252858644,1.5233357007515766,1.8783244622440458,1.0307845380812803,0.41813085420882506,0.4929967923874221,1.0667869523648195,0.9625989317477184,0.17872919504042342,0.4553959351469424,0.3583865906663995,0.4755913841267972,0.8973739897962602,0.47485894944245594,1.0085544914531057,1.8385400748685838,1.2742222336504043,0.3399185417689652,0.47342294595680184,0.9155039990299717,1.8033190116895608,0.47498751363070174,1.6771314741373886,0.9027735782490922,1.2866890857009456,1.0019516316843664,0.4775400271998236,1.1510666039569932,1.7977103745780914,1.2846039544668402,0.7680908139170465,1.8169432535154095,1.825386011498008,1.67959908808762,0.4615818465163205,1.2808843821344063,0.3975358686593895,1.299638481673334,1.2951961173077655,0.9047350117513445,-0.04514046906081627,1.8070422112988938,0.4661327470269114,0.4774826828168808,1.6951859311276263,1.277390874118182,0.48278626416617526,0.4864317641910774,1.811050837261476,1.6906501922038657,1.1633215040188158,0.7718372175386093,1.2936651447351746,1.006147694976358,1.0041162075265198,1.8050909638715096,1.1859191068272283,0.3516970505298045,1.0031789663516897,0.8943545752451911,1.2833666236448025,0.9989051413962302,1.1607145869848148,0.3810406879155637,0.38270093922622384,0.9868433687256022,1.2972565439624082,1.2831644233628605,0.36356713430587934,0.3418196466936101,1.820024598724082,1.2842169945316235,1.80707979842335,0.630455671166524,0.4906866028114017,1.8096377482093244,1.8119839171327412,0.3757052282975896,1.80777269225392,1.819053461626476,0.7439247171821116,-0.054312929523836616,1.721954403752691,1.269306789345227,1.8245007950876453,1.2660117640724662,0.8782180037862283,1.8059393528380272,-0.04528438475604547,-0.060632389990418735,0.4713642661715193,1.8100625942447204,-0.17540164708641312,0.4644830540801739,-0.03227548565718677,1.814379623064645,-0.07025877108600734,1.2927138212695843,-0.06368277834019125,1.8169638964498802,1.1607457243668728,1.0051043057539124,-0.06493904281532285,1.6796050225973433,-0.05354193932028282,0.49642613768073884,1.2802550285842447,0.9903989973195835,1.8203244984511362,1.1782003010384179,0.4599822791325201,0.46462368660501546,0.9846048408742272,0.3749617406479426,0.7513095486436782,1.2807516923763893,0.4734529701547397,-0.06581875908405235,1.280631975424944,0.9049186770144904,0.7401278720820861,0.35395715397661415,1.7041509807457988,1.0054326557898952,1.8077786267636433,1.2675944605880582,1.2741353539653995,1.0186725514318804,1.0040699179546264,0.4879462269417755,1.1506774721813209,-0.043764649363405954,1.0060790607314227,1.268863588814192,0.6340931400087669,0.46705004102310127,0.49371398646609393,1.791137303956348,1.2794050205979273,0.35321539255659185,1.152718340894625,1.8105551869948777,1.1663026074986105,1.2709806716387533,0.3636600124253884,1.1567319329721748,0.5113298912789932,0.47735956424248244,-0.15437297257261456,1.1618789511321894,1.8205372552512569,0.3534195202310517,0.47159147000864726,0.463348543004575,1.1603069747181307,-0.06670612854087893,-0.05843554664228459,1.1595682614175535,1.2726890647463034,0.8781838540185192,1.2841334525447914,1.284710691068906,-0.17668118704136157,0.49007134279473963,0.47902771134343336,0.4655122501105456,-0.04872731590143884,0.6226235136041508,1.0145008955978174,1.294028370331429,0.3539446794629136,0.3751942735005412,0.46667526602285764,1.0241774267473973,1.6854965249843044,0.47772305877772925,1.007845911406036,0.3512054713051925,1.280572523126326,1.2731589611740988,0.6407339216114788,1.282952587972519,0.8724521077296471,0.4861375563715527,1.2869002516722543,-0.026778560659746004,1.174632041898633,1.809417988846149,1.1499654547775044,-0.055470219640569134,0.48979334397564106,1.282795708867713,1.2766576346224394,0.36036712140510074,0.3939250675229208,0.7674957473727069,0.6292319731730965,0.7451210141259508,1.807504770454119,1.2752022725125953,1.27099079378884,0.4684517950824719,0.47533901315112853,-0.060320331665189575,1.2707731968691252,1.0033106068503668,1.3155267870866643,1.270782858314323,1.2711081414368695,-1.1093995983388878,-1.0757580293696527,0.12145512777362236,-0.5714314084816796,-1.070111760002938,0.1280190709768336,-0.6754604069439629,-0.6903103644173353,0.11781932308196791,0.12171491688644558,-1.2240254192385336,0.13118164154251966,-1.112061398336649,-0.6776747548455451,0.11580174864247145,-0.6857499115171164,-0.635284070873007,0.12268848721224776,-0.6824278293012795,-1.1056350207448435,0.12609501588489297,-1.0819961366296607,0.13637637837407332,-0.6882761992913622,-1.202128562765936,-0.6753069745928995,0.12596874013547998,-1.2269846312073678,-1.1073755196292085,0.2318650378612111,-0.6498784438221669,-0.3704241256833712,-1.2103388123869905,-1.1895599214343044,-1.220790397230859,-1.1968950786492727,-0.6747780432947741,-1.10977719580463,-1.2237161476450087,-1.2170099077663672,-0.6777897952607503,0.1264060512875807,0.1232216343417236,-1.183939189649441,0.11906445188146628,-0.6826312330289208,-1.2127978329453541,-1.104696450128942,0.12196174258969222,0.2346855804315151,-1.1062012683826887,0.12043823513078912,0.12760609396088501,-0.6568075551082087,0.11505893796310941,-0.6832318372944313,-0.5655063448814601,0.12234072402429068,-1.204036813188811,0.14887365141110578,-0.6682173117943624,0.1242418289489356,-1.2245211240329172,-0.6769513573181574,-1.1215451480472909,0.12776402232503056,0.7718285853344341,-0.6839600298106241,-1.1230955864538972,-1.1119425858551801,-0.6806596943163836,0.1417294779378637,-1.2289116986849598,-1.212238352819621,-1.2048769886037685,-1.196731117962573,-1.2095039565905077,-0.5717952283294476,0.11418892827036721,-1.0866539542654747,-0.6846475682889243,-1.1183986980661962,0.12577551308571092,0.12826746117209434,-0.6730330577943221,-0.5738626744869479,0.12187963909950145,-0.5787548884430974,-0.6844125570773403,-0.6728892774914611,-1.2018373015615382,-1.1874466746007883,-0.6896859957761315,-0.638478203791847,-1.1892607456540687,-0.6788824319129553,-1.113536263860046,-1.1646259014092522,0.1288884018535467,-1.2328734653151898,-1.1976017407008197,-0.681902325962905,-0.5585549528471561,0.12434586908087604,0.13361770253659272,-1.203177322434709,-1.1133260756804901,-0.6739228604793452,-1.2225406929527902,-0.5769467876333341,-1.1902823881549176,-1.0875792267622832,-1.2129916654893764,0.15149835318028684,0.11817804142240075,0.24197704673188522,-1.1945880180572803,-0.5774436413456315,-0.6860724267019497,0.13407430084529534,0.12801370622756925,0.11384341778744894,0.11880279930090595,-1.2288667930819233,0.12514841224058806,0.6586820902374738,0.23773264987710627,0.12210967479912307,-0.5338152015799604,0.12030196322666133,-0.6575396005552478,0.1377666620482938,-1.079721136683694,-1.1117741818374391,-0.6837560920563174,-1.1123680919126138,-1.2124691839336488,0.23148347840905253,-1.2098457495349473,0.127659773478946,0.12641432876392195,-0.6866681099832825,-1.211110327220214,-0.6839544300104172,-1.207377043040331,-1.0879222137554263,-1.2201061343801392,-1.0811003543041247,-1.0848498699699134,-1.1097960297991494,-0.6747862662433303,0.2444993631227188,0.1291879123432994,-1.2099911037268178,-1.2113826265805316,-0.6662101039528915,0.1606311637339654,-1.1959655470360688,-0.6784183533965061,-1.0776913472724938,-1.2137240287061302,-0.6773050004880533,0.14090609252653116,-1.21222218710424,0.1353699613848352,0.6657230753667108,0.12172835039790708,0.25495198598318775,-1.1060839658654489,-1.1859642461508726,-1.2248852879871976,-0.6596685523992563,-0.6695921555457647,-1.0926960308042069,-1.2134586397931,0.12372708144588822,-1.2226411960694092,0.15037424443650718,-1.1951756231794204,-1.1123424095413992,-1.0792163383588276,0.11973381638728493,-0.57296929905281,-1.0680120820732502,0.1262353588310072,-0.6744912329726687,-0.5796814095163944,0.11333322082526866,0.1210099283824822,-1.2294992041485258,0.23569766114574062,-1.1145490045963098,-0.6796263463794422,0.12041394612542625,-0.5770574862218165,-0.6380031513289308,0.12138159133850036,-0.6805238567803469,-1.1019501134127938,0.12488614476877907,-1.0814938824343048,0.1360421934869414,-0.5792697713385129,-1.2008546132141988,-0.6765671559236583,0.12512527215313934,-1.2247783708619742,-1.1080954346690597,0.23563295315342794,-0.6502590988043494,-0.36762485973277853,-1.1067572566238906,-1.1869570303115005,-1.2178055574185946,-1.1983017630898165,-0.5677784339460941,-1.1096791259162067,-1.226700553089182,-1.2188990082791968,-0.674859612758299,0.12315765029622959,0.1249341981498349,-1.1875344399617778,0.1194972764174804,-0.683939232689793,-1.2155455084995699,-1.1081095733333486,0.12252964498113063,0.2363710327687654,-1.106378664426594,0.11813959495875788,0.13205518825058304,-0.6511267749274695,0.11564591879700552,-0.6826391663987496,-0.5651186064716397,0.12456357505616093,-1.2045543737603606,0.1477168953210386,-0.6701029655534497,0.12632362248486867,-1.2234252850749079,-0.6770115053726075,-1.1177400348679196,0.12585025296653213,0.7693421279926881,-0.6821754583256109,-1.121380914730111,-1.1140608627284443,-0.6797975822596766,0.14149604061528906,-1.231700208800225,-1.2155984020002202,-1.2044021260610052,-1.1938928357878789,-1.2069925859551545,-0.5698332156697403,0.1206645438949365,-1.0851936166436684,-0.6879983903924167,-1.1198828451944849,0.12077251967649533,0.12702526389366406,-0.6715868776307959,-0.5756238708335697,0.12212177886951285,-0.5779989244340058,-0.6835570846831838,-0.6770646790549893,-1.2025272826650302,-1.1877460045673827,-0.687660668489964,-0.6409038436601098,-1.1937931374826611,-0.6800692122009602,-1.1141693894764715,-1.168748274079762,0.1260252966468239,-1.2336630450653252,-1.1970740485821871,-0.6800228868952737,-0.56259685044427,0.1193866774875721,0.13548653055826096,-1.2042005294275722,-1.1115582848021066,-0.6722241645507866,-1.2193242792856882,-0.5793649642336528,-1.191466925134879,-1.0888471966735074,-1.2128273682474167,0.15020867228126003,0.12402841966958429,0.24352263562190174,-1.1920439455478544,-0.576164526361779,-0.6858429607627872,0.13565804662022718,0.12718434117572366,-1.2283766429569574,-0.88350215813426,-0.348657432357057,-0.6867646059826957,-0.6775768748772752,-1.2272062540382802,-0.9965606264740456,-1.1102041591526965,-0.8636430489337457,-1.2217254590224262,-1.2130125171379929,-0.985724279872214,-1.2093412783683468,-1.0999598497613066,-0.8967768823599839,-0.5576783128888583,-1.2046840398899872,-1.2135657111046827,-0.3433414779983803,-1.2093971485208541,-1.116665534608658,-0.9964361145337954,-1.210321561678476,-0.8557298559345128,-1.1236247603542164,-0.8792650270760203,-1.2155696527155693,-0.8771597587431218,-0.5791987302106236,-0.3507010690080747,-0.8958479186614953,-1.210699050088648,-0.6771248271094397,-1.2192459027309719,-1.1089560724953313,-1.2263331416983076,-0.3352629836286363,-0.3344554743539572,-0.8926336129100686,-0.9849082580702511,-1.2115688792582326,-0.8691742139604747,-0.34716844695491794,-1.093361830112162,-0.8891303531870676,-0.6830257558906556,-1.098672032330017,-0.867902996612657,-0.6669401148060318,-1.2136523914725388,-1.2098639686382187,-0.3463271847010827,-0.3424088324952067,-0.3376121104099196,-1.2200667646525292,-0.5630197333533544,-0.8779789828508892,-1.2178314748407522,-1.2194216346242879,-1.2193405803934372,-0.34256624562667776,-0.6830862480516181,-0.5646900880285548,-0.8907829043330968,-0.569108144594769,-0.6710473352867069,-0.45342542614739334,-0.6760526622655447,-1.2161047084435714,-1.2184060262917373,-1.2253261906824042,-1.21791596642835,-1.1216014413251498,-0.88368218672351,-0.45918601198249526,-1.1036206674051425,-0.8782718988088801,-1.218026130990167,-1.219309552066949,-0.3345425890899045,-1.1197032585245774,-0.44967979160343846,-1.0999887795691154,-0.687198145068533,-0.5802161926139163,-1.1077286908514752,-0.8802652932985835,-1.087917255191711,-0.6842871764009073,-0.6841718012761852,-1.2290694371289521,-0.865948853397998,-1.1058017248782022,-1.2267512390155826,-1.1131797249113204,-0.8800211904022605,-0.6780664740357728,-0.8795329488758212,-0.6764765944339688,-0.6803491384125764,-0.580886480383702,-1.1257999829761267,-0.3458289470199286,-0.6726885514399543,-0.8860692447357619,-0.5709094064248326,-1.1019933999960305,-1.2280802896422196,-1.2229538241550977,-0.6802409275800753,-0.9010453331691834,-1.2122174917740096,-1.2234381939566996,-1.0998033504968072,-1.1302682647638527,-0.4612725817132421,-1.2279874660504955,-0.5824540153124637,-0.5724995662083687,-0.6838426370318055,-1.2099238177169456,-1.2001586318304587,-1.1233396329766907,-0.5644591741957553,-1.1052095786121898,-0.8763636295920141,-1.104532081419394,-0.8693368282578555,-0.6853534706598593,-0.8954153837042086,-0.6864480610413801,-0.6735908286386777,-0.4456341031460699,-0.35766784828315606,-0.3472998505569088,-0.681492876565282,-0.8959459885499181,-1.1995054236430247,-1.2103400064356935,-1.219629154524705,-0.3254806372952137,-1.0917980672496637,-1.103025309436331,-0.5624786171202557,-1.0851279759988373,-0.677702110764344,-1.114196527292575,-1.215554825838256,-1.1231771089408893,-0.8808776575279715,-0.6729812774777925,-1.2260553327993624,-1.0913406453355687,-1.1046269941328017,-0.4508623203262994,-0.6853740778605375,-0.5661993289736079,-1.0958938888127767,-0.3505351978771046,-1.2237119863414434,-0.8914540063112805,-0.9956594436654514,-0.8750373299632878,-0.4633464418793465,-0.8644240710258079,-0.33982435039582676,-0.9889837168806239,-1.1031147765358913,-1.118012070994752,-1.2107762777254503,-0.6740152403059825,-1.1032556441116754,-1.1187351883404077,-0.6785122977151578,-0.8758749988282727,-1.105887310855929,-1.2251943151327844,-0.3406586909596347,-0.6863902559535476,-0.8958426178370111,-0.6756792355003636,-1.2136298662763387,-0.6830443999650225,-0.8819321354495171,-0.3480689584987343,-1.0952060795497403,-0.6869381754325522,-1.1059201123885756,-1.221227148019496,-1.1015949151478792,-0.8976852388577945,-0.8702697276059627,-0.8971133650829441,-0.4445187250407136,-0.6830583223723597,-1.2327972963347225,-1.2153606585847163,-1.0942954797438862,-0.6792618119818512,-0.9865242713511642,-0.8646633977273168,-0.3263068903028337,-1.2127340030862195,-0.6906518677830472,-0.9871738973924872,-0.34316599810425336,-1.0935128743658185,-0.9973134333081222,-1.2053101554005508,-1.0982202647439134,-0.6815341003636338,-0.8799558769156951,-1.1014155465806672,-0.87189099658057,-0.8781529321410517,-0.576753052902142,-1.1037384400242676,-0.4573635186635093,-0.5596062397056367,-0.6903266203942947,-1.1217924156698797,-1.2148254674643462,-0.4534927478910599,-1.2285876002141212,-1.2163647420043329,-0.6746157994407038,-0.5872752614540561,-0.44887529471441057,-1.227987665367644,-0.5724358266108126,-1.2140775722174515,-1.103611874696127,-0.6801068989839908,-0.6781398562845359,-1.2124514988570434,-1.2188835119828496,-1.1177211632938617,-0.6837383975827164,-1.118251623350208,-1.1168359938600332,-0.6769396424850692,-0.3353191696966696,-0.9842196872724137,-1.2262846088183714,-0.8825292590732355,-0.6764831889657305,-0.3422009327544833,-1.2158508632374676,-1.2070150114927805,-0.4587091957104163,-0.6783611538029268,-1.2279514170812553,-1.109266916132122,-0.347462808960802,-0.6852481368206411,-0.6759586991529019,-0.999028864712521,-0.9991653810645867,-1.1090443455461882,-0.8624092645240248,-1.2202605802567483,-1.213620919380964,-0.9872343444226602,-1.2076604668335424,-0.8729303241580246,-0.897761263048898,-0.5582613317363376,-1.2039700593598595,-1.2159204376861732,-0.570191364249714,-0.9816406789778678,-1.1164108657971612,-0.9983225825012798,-1.2102077604427632,-0.8552297547856212,-0.8970154851146741,-0.8788064750380018,-0.9875712878505097,-0.876844607167658,-0.3533517784609919,-0.35119246770952905,-0.8961734011011901,-1.2121540774889747,-0.6770103564546935,-1.2202897169245128,-1.1102562741787434,-1.2252239143596264,-0.5627025283900007,-0.5603591368012922,-0.8907585250661553,-1.2115826568762058,-1.2106432175241226,-0.8669376398384154,-0.5758895944561163,-0.8674030853839183,-0.8898476808123632,-0.6823633657569051,-0.8697840095692981,-0.8673716226893393,-0.6654571617264464,-1.2149701879709771,-1.2084394449347098,-0.34622806555332014,-0.34300231759928573,-0.5641286259825188,-1.2171430318924759,-0.3352647023070098,-1.104005628480254,-1.2161026550556815,-1.220127582126013,-1.2201339867376213,-0.34138065938737633,-0.6830091200733901,-0.3369756470953219,-0.8900962703247725,-0.5690444049972128,-0.6713028634373904,-0.6797382484136237,-0.6750802859884457,-1.2149255268158787,-1.2197505995515197,-1.2238786716808108,-1.217084882698131,-0.8952603135393548,-0.8822807128458715,-0.6864923423561724,-1.1040012321257462,-1.1059247531910212,-1.2181976470521336,-1.22196350895646,-0.562335541970222,-0.8942343837395681,-0.44818861557529704,-0.8730003235778256,-0.6872742689182108,-0.5808255087238593,-0.8819269700174012,-0.8802541030951655,-1.0906465217225023,-0.6842716349737707,-0.6852976193013428,-0.999533751453222,-0.8649386549455007,-0.8776328480797265,-1.2271624522223687,-1.115773958717477,-0.8783867587009277,-0.6763683027368842,-1.1073031415089962,-0.6761552281670494,-0.6818951616706841,-0.35465896391346685,-1.1254183689961834,-0.3459482483972737,-0.6706317163284176,-1.1148092807592649,-0.5714609080499476,-0.873426553582078,-1.228511730209377,-0.9952849037161503,-0.681653591661132,-1.1286508938508812,-1.2127868777928787,-1.2233136820164494,-0.8725936063841219,-0.9040417524221672,-0.6870828602053894,-1.2274617821889637,-0.5820336201593608,-0.3460096374769606,-0.45575523943527657,-1.209024453245299,-1.2000009836480445,-1.1238360071901081,-0.567004015782789,-0.8770000120420286,-1.10458371694656,-0.8755644429244654,-1.0968297366217548,-0.6848366791659172,-0.8969631256406896,-0.6870820008662024,-0.6718951450957705,-0.6740969996896607,-0.3583046557042662,-0.57531638939445,-0.6818522097969637,-0.8960958932826558,-1.1998478314787133,-1.2120365041869985,-1.217622001211019,-0.32446981455447216,-1.091022165458928,-1.1035738983343688,-0.3351152864701478,-1.085989228716358,-0.6791131464286059,-0.8857555767877292,-1.215535077976764,-0.8954974326666142],\"y\":[0.4168521778874852,0.5734997349361516,-0.6372673599862474,-0.4081190258358742,-0.39894278574596626,-0.6509136523340303,-0.39783166025020744,-0.27740566563117336,0.633611910316723,0.15410939830584072,0.4117801595965122,0.41306114869261584,0.5672346186962705,0.09741895516835981,0.49571053687654526,0.2766677283363135,-0.4824987957356858,-1.0789211129222174,1.4850354904940892,-1.151485609544978,-0.4112782579417063,-0.41326615973446046,-0.6387452788232759,-0.3350802919116761,0.15743804132152298,-0.6602053441602753,-0.13068422152980344,1.2440221054085483,-0.43312818156230254,0.25808941506832733,0.10137425793062829,-1.1614020407996988,-1.0702987708498313,0.09245658040493719,0.6544764047297066,-1.39001485448623,-1.0716144454015233,-0.42718330033156915,-0.42843376310814657,-1.1702080999549347,-1.0071789074299187,0.0013741577023783375,-0.6384823476181907,0.08190198181453866,1.1229101607841776,0.6550513017313135,-0.5022494305377945,0.2591457003382573,-0.6467841841717706,0.4186171864724873,-1.3867228986550448,-0.9246074880121374,-1.0886532860747802,-1.2356397575628275,0.3227895428787295,-1.3953330519752833,-0.16938435679737765,0.512431578813668,0.6383214095759518,0.26656198665567565,0.15949385259886997,-0.4074214916100481,0.4767006469396376,-1.0685078841502682,0.494881230245751,-0.40691086782989316,0.41843258527513294,-0.003572428338527932,-0.3502039802235657,0.5721319396223876,0.5086985099049283,-0.6442748368478394,-0.17998931412187583,1.0152726249310982,-0.19736350140960085,0.5632365834516702,-0.43225285761869825,-0.32105403355084944,-0.6436287009009238,0.0744962830312604,1.3266527547972147,-0.4102601637579165,0.2635957012389014,1.0365787188889206,-0.6318990314142858,0.6449678625235362,0.5752713273682928,-0.394639799573836,-0.9292481935594024,-1.0838180416936434,-0.39996402423308314,-0.40220367423831754,0.27565008074637265,-1.1710941058581381,-0.3149044634727595,0.3440819375983263,1.2696211390236687,-0.3507621953149591,-0.4298695532587738,-0.1955042949243678,-0.12381383990659335,-1.247603347800766,0.488296966414991,-0.4321519364820674,0.0779147737862657,-0.1834735304517246,-0.19264478173022312,-1.0686352269095205,0.42804923041228615,0.016900208925630857,0.08826632724111909,0.48851982581872405,-1.2226749499988763,0.4198152761237203,0.09600680439997852,-0.4108996861493662,0.57482692721944,0.5751276730136022,0.49541731894847907,0.2475713827343713,0.5713331320915407,1.4661914902644937,-1.3972956649296597,0.25211577574707705,0.5761703207858822,-1.1590607253347518,-0.12860608056001746,-1.079778320748602,-0.2063014273952637,0.4203304602678217,0.5804941207847102,-1.0738741921299526,-1.3908970443485675,-0.41317761250736496,0.4183556948540701,0.5923890209222032,-1.0687487652457612,0.11226978371183917,-0.43099585387219824,1.0158469174010472,-0.14625832880452902,0.6528273097303655,-0.9346454018669181,-1.1720541519147791,0.5686102675419289,-1.1536462215121719,1.150842174061864,1.1728186507526668,-1.1577862772085712,-0.32934768255053526,-0.5005657989474814,-0.3483687863075148,-1.161165467704884,0.5939067773437017,-0.19362324163331612,0.48205674685879213,-0.41047751517084785,0.5967341218311438,-0.34274989136681033,-0.6628268319062143,-0.4284350938165,0.49858330809473,-0.3486657530705662,0.5795799467841501,-0.34917010639045243,-1.1504463947320658,0.5838077654839046,0.5699076498922068,0.4943265697587618,0.16701177715642188,-0.5183072533899036,0.4914256359085255,0.735725450688064,-0.5163044288427521,-1.1639532735199563,1.3314606904646786,0.742436596734636,-0.3230245635494657,-1.0100420296676247,0.2525063783537555,0.17153073866716573,0.23642683654189792,-0.6530749141988461,-0.319470551554507,-0.43194591692635753,-1.1584631918382806,2.1623132465203954,0.10773921983422,-0.012777602603147642,0.508106745835719,-0.16400738500448034,-0.6566962892794268,-0.3475538832517261,0.08248846303663554,-1.0895160690978476,0.734920837437183,0.4156199462887241,0.41666840885423073,-0.3492044941168084,0.25305194615379933,-0.4822911205228114,-0.1498449240040625,-1.1615194859087346,0.06728424804054256,-0.656662235575075,-0.18837771729657565,-0.5000486523437896,-1.0853968816673027,-0.1522384637297372,-0.31442334210620254,-0.35515086399370427,1.0176448951630337,-0.4033935128233059,0.40634114208610156,-0.4845571286383165,1.0047254361509017,-1.0759102316329157,-1.1656159151993772,-0.1522521864940118,1.9111219113421387,-0.15096631208515027,0.48699485668976433,-1.0810208937005181,-1.1544657393710647,-1.1554364673873048,-1.1634129040361283,-1.144113946319666,-0.24710324539214978,-1.1734603270799642,-1.0910118698352134,-1.0800755670945006,-0.6292904676703825,-0.5112253351469894,-0.15230697774598803,-0.6498518645386033,-1.0919876131654596,-1.2237118955497739,0.6305150797046826,0.5073461783648648,-0.42588953609804586,0.41663772459689546,-0.40699321718226317,-1.1656214322633711,0.4136533049165163,0.28682666912411325,-1.088658942930198,-0.32650233871451373,-0.5125643723702411,-1.1634015812520995,0.5642741480727231,1.009034620197757,1.0197459612837234,0.49137742191924333,-0.34823180364097756,-1.1679615840309665,-1.3828262003134575,-0.6600183611290606,0.16260763563077849,0.4927374581265804,1.036044303989743,-1.1647790346195392,1.3389865350430188,-0.27941266746077303,1.036312706892858,-1.384582252692816,-0.5104386037964449,-0.5056004946948273,0.43268673721706663,1.0643200184655388,-1.1690895403015555,-1.0748568746814584,0.514894340585903,-0.18819861501683002,-1.1597492060385657,-0.12257209663002488,-1.1548673761057322,0.4137103291377365,0.6047936158626468,0.587095896201031,-0.9314305397605697,-1.1630453210058125,-0.40870827735299275,-0.6355180518805853,0.4106134469774439,0.1819087537309416,0.37326454921999525,-1.0819290804315442,-0.918601851871584,1.2494249342787103,0.830388226674101,-0.004102124935949824,0.24012063241152382,1.3948319310653134,-0.3913136502468759,0.9840166912678902,0.585969492088955,0.5669662339395407,-0.6451638472629465,-0.4191592542251215,-1.067369431077468,1.0238246303190668,1.2415051024768369,-0.6558836645588464,-0.49121999298646124,-0.4826370093054546,0.09445044298337407,0.2662206310174005,-0.13835501190186775,0.5701331434930678,-0.1582054132164488,-0.6508647212412453,-1.2406923170641246,0.4983725520908785,-0.15256570444904657,-1.3865822215926802,-1.0764218793189986,-0.6577870566155298,1.0247774183022833,-1.0776592510825382,0.26960667835925406,0.1527017344944935,0.0072402623315320535,-0.36626169348037724,-1.2356934704697182,0.5887159535270088,-0.6522576383823898,-0.3242921185373345,0.5920849268039569,-1.1513348096887075,-1.0825354241599539,0.505614643195583,0.42168869195337805,0.648460718380791,0.2779181148338179,-1.1680138264380806,0.9745800325249873,0.26200241232427185,0.5688476975316693,-1.0794435060802496,-0.1412603844710133,0.4965122091278726,0.2678587191083312,0.16274686033975239,-0.28436149554411605,-0.6521608582354357,1.0108791653650537,-1.0912266905496681,0.26392380792632963,-0.6610386701357086,-1.1497293138755451,0.4069858439116533,0.5781613668819636,-0.27900494542322485,-1.1566029523739267,-0.33257923564029057,-1.3983869823582626,-0.3292510966341617,-0.9348341531271418,-0.0011607271296695636,0.5687789311521506,0.4081814638880026,-0.3578280935950221,0.5130770104238035,0.14857945110313342,-1.3990689493117323,-0.512405989491734,-1.161644987853434,0.568871682881273,-0.41951384066785813,1.3170477483197085,-0.43014882327887616,-0.43092973983619337,0.40828632519929386,0.575659214033465,1.5171549703855587,0.5198540630058119,0.011156425645077735,-0.43334003405762517,0.48763106768124304,1.0264870921272486,-0.34627203726069655,0.7580601682311294,0.41042325861930934,-1.0841913760048352,-1.3883373081987973,0.411788049421174,0.4835188860464972,-0.26837141516559776,-1.0784033799332535,0.4940911966540703,0.31138189559800816,0.2596932606896304,-0.2772912250340416,0.581617985125117,-0.9293483885193375,-1.0585054363669286,1.487939292758336,0.7488496481103122,0.7485816918010454,1.0169896112686465,0.1784924415060228,0.08182736434902117,-1.154788283628534,-1.3936208202322626,-0.4973311287739774,-0.008126494679130193,-0.41961373789856093,0.15767115423739209,0.15056197264676915,0.16589219359711485,0.48437546212164595,-0.19824905164576254,-0.3536640979149835,-0.6491270245756514,0.5074747973933128,-0.34782480778012503,-0.6635386934279728,0.4973859046338908,0.6543152024966836,0.5049598967126152,0.5708673800732301,-1.1578537310261225,-0.640924052273653,-0.20601605392589484,0.5739976598579645,0.1513669410425874,-1.2399173641646506,-0.3299665127603249,-1.1770664053978415,1.0262500724385855,0.12422443299960947,-0.9186283316268924,-0.2042539616096202,0.009096892752324249,-1.087404163079749,-0.00386437907059094,-0.15329199676538963,0.5167396663690523,0.10451543492408885,0.2617993337681156,-0.2792419469655024,0.49939074977332004,-1.0786195495024475,-0.652716010682238,0.7333180484066913,1.0072017808959879,0.5064485338020146,-0.5112735672826574,1.4889697336320822,0.8603608082894582,-0.9186746375957419,0.49613077261505206,-0.43397641214574767,-0.20479864816731974,-1.0734621530185326,0.726839022786434,-0.4289684757365567,-0.5114557775729585,0.5725710720939664,-1.0720957337790822,-0.34763011100844365,-0.43208957128104764,0.576966373191546,-0.34870105213100544,-0.3550719748202799,0.332559324340049,0.27014153077908776,-1.1483777720245274,0.49428532518686524,-0.6571673059984641,-0.00461209881848235,0.5659807229603261,-1.392147218469106,-0.2051599516641737,0.009274785968754015,0.5748460302328329,-1.2445721664844955,-1.0804145227525301,-0.6522822010440728,-0.4189560630971207,0.264106018216631,-1.245836640681387,1.2712106028242398,0.42441604058786336,-0.33532636512235264,-0.18532547886353257,-0.3231296619685448,1.3538605773934416,-0.6598179893555757,-1.1638045577683127,-1.1660683419877678,1.4755759066002825,0.4157372606795292,-0.5093737842695356,-0.6540810810669493,0.1486521061090608,-0.9198971047512697,-0.5056041037383889,-0.1398896481576912,0.004310196382473285,0.49648345103735586,-0.416588502093748,0.9169688588637827,-0.5061522051090699,0.4086294490665786,-1.392896296144929,-0.3444170080579116,-0.19716054449848225,0.15987061986942924,-0.17748059316951795,-1.0876870149238347,-0.9244049014157941,-1.0822521166488266,-0.01357462375859957,-0.48105526462501313,0.4296811696879857,-0.6534835475704776,0.4954652533549144,-0.3389640118120702,-0.35348822231428373,-0.3331377575341094,0.49152390470164226,-0.39572864981631334,0.49227434030539796,0.2656456977230216,-1.0693073325055447,0.4228992499396052,-0.6499105171974094,0.08613592571783328,-0.6527974396273317,-1.2341939934829105,0.5008149557034577,0.021784551410554978,0.07830390589316732,-1.0860194244193062,0.09221003050867273,2.1572921828053957,0.5153730891917928,-0.18572453953375906,1.0192012747260242,0.07289731911482718,0.24616881041171595,-1.2313925011963358,-0.5787061784270233,0.09918403385015252,-0.420848421025815,0.5918215580782157,-1.076443176032317,0.2602398461945698,-0.4235752504809084,0.48670337977112876,-0.6404827994046751,0.017843126478209688,-1.0808859951386085,2.0648406913920323,-1.2523911134425099,0.5803709734542921,0.5826008074680463,-1.2421314094558884,-1.383931556381954,-0.40840696629649115,-1.3976128954269078,0.41898561732453604,-0.4138191282715132,-0.197170396782734,0.4107882928047628,0.013171885538225623,-0.42820612189030743,-0.49915797719832494,0.5084186353531681,0.2622818312089904,-0.5027305519043515,0.5655983993564535,0.2571268074857425,-1.391880890597425,0.490949436147498,0.41748686651442385,0.5849453888813574,0.08147560633399355,-0.15017510572292542,-1.1592429356250538,-0.634458433542052,0.4923188236060808,-0.6624775864432771,1.4021875568983713,0.5631992148251012,-0.5106094913027176,-1.4030354107191876,0.6013591784473161,0.32653509826884924,1.0346208514558792,1.318937417612117,0.28784191673380827,0.2578288711624069,-0.19824805495941317,0.27750583612585294,0.48734081805795093,-0.6547683617806394,-1.236501534826352,-1.0731404656559893,1.1643919258592383,0.5797878526060188,0.2801612650042993,0.7261113816153518,0.48978160230613704,-1.1675116970142454,0.5009441737982588,1.3354369036342815,-0.35661271452537,-0.49758585427878277,0.4866634931271643,1.0236808815389178,0.5862776146250328,0.56884592930266,0.4061181211366713,-0.24798805130523016,-0.9251010958600739,-0.507671210580186,0.4101161872087381,0.6039047452389628,-1.1605881979426096,-1.0764745864663472,0.18029579654058003,0.5663106160231491,0.3354664832845895,-0.4334059720094352,-0.3403595994431146,-1.158373854922139,-0.4247533741271767,0.10792221074037425,0.5789965064523707,-0.3387883606380771,-1.1704840858802863,0.40130863033414693,0.26430652070834637,-0.49408279027535645,0.5797518455152698,-1.15488796848227,0.50594968847293,-1.2426475140072661,0.26100632288410985,-0.6555898148795438,-0.1915723701078844,0.08886161869515395,0.23477724958274357,-1.075682283612651,0.1711412725382599,0.576395859752708,-0.4271459443860807,-0.6544511675761623,-0.17265385221789328,-0.6563973963495571,-0.41609206581810215,-0.18191345649290658,-0.5129420419016907,-1.0898342018559866,-0.6511346218637162,-0.41825574042988706,0.5010775528865392,-0.33563285014765154,0.07389843365917052,0.0706515475139405,-0.40775509721508496,-0.2057740091330502,1.024765639851213,-0.9305038393779699,-0.42555439648088184,0.4971780533368216,-0.49589279885168086,-0.48908242781520916,-1.386842269930899,-1.150191082841988,-0.2620650815733941,0.15810288884412244,-0.5659765308738146,0.6443685607980554,-0.35218399219165797,0.002335245811333708,0.10585284370975472,0.5724722350619633,1.2605182619699975,-0.42960711401350166,0.16838905443966642,0.8345324777993344,-1.3705904583374184,-0.4285915323818025,-1.1625424926248604,-1.0745917286535147,-0.4302902355911295,-1.0690995265744399,0.15418937787409082,0.2681396357124051,-1.1562887082421962,-0.6419485113431704,-1.1621978801114135,-0.48523251832909164,-1.2409213071367027,0.2797939797032162,-1.1696300586499997,-0.2748473237021066,0.27339481810281685,-0.48871100152444946,1.169751033898184,-0.41919704769126553,0.5854589808806447,0.5171289654869563,-1.159478087279586,0.4942329339151348,0.4917134002849474,-0.6561172331417572,-0.926183386986243,0.5872737621978822,-0.26660027840050293,-1.396510859745934,-0.9181413773207225,0.33923605124389145,-0.3433508759690346,-0.9289509290671184,-1.0731678476721882,0.09498175894518907,-0.28576961502250503,0.575013223343278,0.26110013481193184,1.771471685350474,0.5656431161570358,1.0118101828215247,0.6055199444717615,0.49133975009813674,1.2738844909151024,0.18186276363771045,-0.4291140381116796,-1.402038017790251,1.012905203719149,0.583514994149687,0.4336412662097137,0.270346666220293,0.7307600223532429,-0.6555850239922446,-0.1821012019935881,0.27218144983526665,-1.1533892993308943,-1.3986699739937716,-0.42160761242235123,-1.0879442166879592,-0.9942692190433019,-1.3905137270348933,0.488868466750003,0.28307213649105345,-1.2413927341568167,-0.4352756934432652,1.3271968096036775,0.2590548929223392,0.26221141824549976,0.5769579816168955,-0.3942809595695781,0.5022822779331536,0.11936683170645455,-0.42499783704665317,-1.2384765216902631,-0.4352466829894805,1.2705853532895652,0.5700609441541823,-1.3966582266428376,-0.9163508609359353,0.16169585800257652,-0.12661754701602676,-0.1403320647240207,0.42284610527160094,-1.078892558135474,0.10312595074231105,0.4142934318396239,0.7277958119679033,-0.20224890409322457,-0.3223403817731383,0.11016409371485239,0.41054890035543207,-0.3477515845353112,0.4936648665394896,-0.2694289312531176,2.0011616924734503,-1.1621277376575765,0.4121874197847313,-1.384671860118611,0.26220427274391933,0.927228198632274,-0.653711413932006,-0.5000270397548533,-0.4272474700543696,-0.4007231793368478,-1.1585753994661687,1.312771770155471,-0.18948172451033277,-0.0022099158718716806,0.9208531651494489,-1.0702658899160238,0.40883236968492565,-0.3985386001664367,0.2577727310556914,0.8400602040825381,-0.664766546929265,-0.3218746025352491,1.0211245783485141,0.4130096415353901,-0.5148999093347321,0.2668972206982986,-1.0788926707073185,-0.15101633059621342,0.4131404056920584,-0.16030617312362,0.2621301109454437,0.15711708920886802,-0.14779759800984224,-1.1584415429565726,-0.3197966013568865,-0.33201980241238843,1.1868504533970665,0.8584477400327183,0.4891858370386749,1.0707806120929584,0.15640328337390502,-0.0023814079098023163,0.1581006558748787,-0.502308399072219,-0.642588209818815,0.24254795533189655,0.003389897178372964,0.4277382250093419,-0.34853638971903694,-0.32404096578331937,-0.4202913242658085,-0.4136548452475132,0.5670783017760052,-1.066830067353182,1.163273830946094,0.2670353579889943,-0.4127816417013082,0.4031153820352993,0.25851898030380593,0.2525459944880663,0.9093465711370402,-1.2364361651134286,-1.3888046123756208,0.5681172279328784,-0.4887902337930709,-0.3310621654091856,-0.5092728268401333,0.4265288154649858,0.0795757870281004,0.24352900324478402,0.091663429729508,0.16947085360602218,-0.49703756775071434,-0.5141925046782684,-1.3842808018448909,-0.4038416988168978,0.17039306990374814,1.3126968821803,-1.2407450423578588,0.5811088862838962,-1.0816501081406742,-1.1528235684231443,0.0008300393835650892,0.5890471863713783,-1.3738443501928057,-1.3949788939800098,0.5674786259487049,0.5754950708865304,-0.33961766726887144,-0.3422153094566306,0.4078362983911495,1.3264111838177974,-0.3330387807106829,-1.0847869833344888,0.5682745687590713,-1.2261452910063042,1.240616845458004,-0.20415675301520275,-1.160324418915791,-1.0175554882866888,-0.5049746678480735,-0.19239200053862188,0.7621221014203661,-0.4300924035893138,1.7604016749647822,0.8276371050669786,1.2544011443782521,-0.4325422504327061,-1.150150816810055,-0.20084732558475824,-0.4966880064121588,-0.1916437034786512,-0.41508426143922006,-0.6556962530801691,-0.34823015705700583,-1.0820458175102698,-0.9200005838059558,0.6449891592368541,0.43374474526439954,0.2776350415395732,-0.33844297658197,-0.33894153325501497,0.7471043774956747,-0.3294052568642561,0.09999275799897112,-0.285163307586867,-0.9497408059017186,-1.3944446097990628,0.0026883254615219037,1.0189855608238716,0.2804168746236092,0.5101813140547148,0.26913821955827205,0.49426434434916555,0.16694154027712624,-1.2359498425584958,0.6756747351582132,-1.2327023700279933,0.5857139314434975,0.17165782368348662,-0.19709360078712998,0.4963021248615593,-0.2630657041579241,0.5656075284405568,-1.1578909471801873,0.7704807861109716,-0.4167019732241091,0.5634693950304184,-0.3347177612051203,0.2425627320938382,-0.6484525462189595,-1.3973255867175276,0.4072608059310771,-1.0802820786100238,-0.3396126058719187,0.4073602384215453,-1.0084405350527152,0.2698298173458338,0.15294793842340043,-0.4141125857961246,-0.18030024693927696,-0.1867228528699721,-1.3858172244761096,-1.0790185248204083,-0.6499791437855049,1.1640455088240098,0.4343186637260434,-1.0732258957993364,-0.2795337125401777,0.5950702801616005,-1.1532222641582583,-0.12760362623412788,-1.0890764991056123,0.4248820049831405,0.6535776236890836,0.5781563054850107,1.415353098194373,-0.632358400400483,-0.6574949751652363,-0.6412781830493479,-1.0742959346610077,0.08364766273025322,0.8319422334764237,-1.0786344359640738,-0.5088497536007246,-0.15795100358726166,0.5741865599828044,-1.3925468745977971,1.4876691125530181,0.16977740214367157,-0.6497994460472941,-1.0899989949861852,-0.6398079779527862,0.26500957199816716,-0.42412099723730756,0.4261161961505814,1.0408822551535513,1.911588601914111,-0.33956973286243597,-0.6400058553205663,0.15795193105004274,-0.3993186326092492,-0.20506197152709651,0.7301919096116333,-1.1570721554979897,-1.3868134174149231,0.5707586635373963,0.09788355876354436,1.9131958931758621,-1.006815519828437,-0.6381170701426621,-0.6553891363036332,-0.6612872740448613,-0.15548774985521324,-0.9288141043383904,-0.4075422208138343,0.27362181849622647,0.25108336046838736,-0.349969378661534,-1.2513112585893582,-1.1572580964768906,1.2727215242401135,0.5632778189503741,0.9794279666912784,1.0724923972421307,1.5052080601579836,2.1607114723226397,0.32761377127826347,0.8617182956519337,1.2636775975744814,1.469354845213616,0.4117696693787364,1.7625169601379653,1.3977981892625089,0.9294603139577838,0.8384276330556016,2.170139676594673,0.4130198344260813,0.3400007234116506,1.488845431677506,0.4993310858896667,2.0247193092121845,0.829412306542677,0.3440122689579169,1.1338534329422751,1.2690383794169777,1.475458750147286,2.0748832774656223,0.5827071276315217,1.4867033605814646,0.585692941532605,0.47511762968353005,1.8752043261340268,0.33128965802797394,0.4875061702682014,1.3299986177658711,2.0059827947160427,0.4217464180226204,0.5757707136310433,0.9255373119450828,0.9140208928680013,1.3571458524632805,1.5185970128500688,1.3463923826909132,1.3295353873728442,0.4090283456167085,1.3172653793154863,1.4004043167333946,1.3137248105019552,1.4895870661225163,1.2432414502876923,1.2531359893706293,0.3295833899427964,1.068813320823128,0.41860207237841446,1.275485204914159,1.4906460890025843,1.2558662699314753,1.6126518474823668,1.276107774885741,1.2516586659920654,1.750308235243012,0.3410259903165996,0.5026902159555563,0.8647369360476663,2.1588961899723955,1.420000028835942,1.3420486620530847,1.602672586286392,0.9728990623513811,0.4072697044061866,0.8408139328542371,1.2694770380751295,0.5604133841506995,0.9765540045561635,1.0709254573645794,1.508688496739738,2.15719858325454,0.3259658490494668,0.8588885463078476,1.2670426640786352,1.472767548394973,0.41022907853826246,1.7639658503748241,1.397777794810081,0.9265634266717651,0.8371222483088175,2.1667018152931665,0.4111523368883021,0.3384138356755202,1.487106404303559,0.4962271279224317,2.021416616982243,1.4864373395122095,0.5807767148002225,0.4780297011604072,1.8715982478161488,0.33442830145079766,0.4875899810471555,1.332629186253402,2.0069718421532765,-0.4323572480074676,0.09990820289693585,-0.4091806157071906,0.23759108855927547,-0.4146680268989665,-0.2754674936934426,0.5643727182029606,-0.3462520803289248,0.0658861206378288,-0.41143545897647604,0.9789414499057641,-0.21038729637134496,-0.40299712264297916,0.29599679194677453,0.23354052771682643,-0.31618949005988783,-0.28098499368408886,-0.4199276661546729,0.14857633401938483,-0.2077201253345999,-0.33002100628306863,0.26912653842356615,-0.1914236725026273,-0.18508786371640404,0.3048367650149389,-0.43089643045492293,-0.33812738359550043,0.8609303552380736,-0.3207534577442364,-0.3188579918049862,0.24602661461144928,-0.5490675182923211,-0.19582723671619148,-0.4275819688471041,-0.4070490323401675,0.31693078787629936,-0.3383907341748558,-0.41759436215942575,0.3198947306241455,-0.1953347834924131,0.30975182804996976,0.16435010503728562,0.2707927800733557,0.41503841140297776,-0.2804091762752053,-0.28905517874838377,-0.20959920709286853,0.9205916009454883,0.08531925443303516,-0.2830199548419666,0.23624818085600097,-0.3254096633579782,-0.2707262191779366,0.17093314165834375,0.8329473764385988,0.11330302292155532,-0.2864140953122557,-0.3205224289329948,-0.33711331782954257,0.09705063401599533,0.06415082395248077,-0.1990861173829883,-0.341806834022808,-0.1996817610054129,0.013904866972124685,-0.4127902123367009,-0.20241533473420242,-0.2000814443536832,0.8292839761702684,-0.19679276354405598,-0.19822762421421408,-0.49039338478212785,-0.5673415921853331,1.0685752409357656,-0.35230950320955035,-0.180319915215009,-0.35248457707146413,0.21616717917764158,-0.20535063816440902,-0.5581644226149557,-0.5688618067197654,-0.43428810743261576,-0.20609762266241197,-0.057399350882578415,-0.42315402712924505,0.18736035493470982,-0.19772552200995747,-0.5808856962004817,-0.3251236672105654,-0.5805418007905372,-0.17851035323253328,0.16191409353001257,-0.2770019901578427,-0.5772292925691156,0.29967774916663065,-0.5773219989322737,-0.39475254452750147,-0.33453605194782526,-0.29386559903137727,-0.19895273468681993,0.16838673611815658,-0.44064074699366906,-0.4295435488223592,-0.2964425944034408,0.10728012755870901,-0.47936644163649933,-0.3368959845629969,-0.4075508640347702,-0.5737493116544023,-0.34985336775950354,0.24094664587437473,-0.49595330211521516,0.0850340389014754,0.3222084760433448,-0.27685595396929247,-0.2019517793923641,-0.3504902468806322,-0.3475811345496944,-0.2541920295537979,-0.28520452493918513,-0.40110487728612937,0.1561457475877766,-0.5678118192153243,-0.2623739084462517,-0.355087447667178,0.025845969579815397,-0.4258835815133955,-0.39595879451304994,-0.21322437637439906,-0.34523741003130914,0.08212330720614454,0.15576302573256703,-0.20200729682103585,0.17599928413249197,-0.35156503126363803,0.07773573501887032,0.16270975675753227,0.3361300182452213,-0.41355585935089373,0.6994347659897595,0.16628934624690872,-0.17692107458934975,0.07963326691636224,-0.41870209098858946,-0.4339819201365492,0.15526688718615375,-0.5676919069201628,-0.569175157663798,0.163971235515713,-0.3391914860189071,0.22518488752442656,-0.33410150705977165,-0.3415872587138258,-0.06442050514248038,-0.3975788881317992,-0.41539476580915824,-0.4343100086775915,-0.5467915543939124,0.013002282657359192,-0.2754036126266816,-0.3258294252830576,0.07986683549927297,0.10222189305560833,-0.42992150700984844,0.4686390688035071,0.30875010897396854,-0.4133941923776363,-0.2757826400860635,0.07219648264786455,-0.3331044300064531,-0.35059622034102295,0.027509094145856373,-0.32559380888829076,0.21231233901280186,-0.4057805387986367,-0.32770929673037197,0.19883805106517843,0.9065386958183516,-0.2038034882076269,0.15066741713759238,-0.5601138229112563,-0.39899294404845265,-0.3295348235195589,-0.35162098621296567,0.0943369899993988,0.8619052514635691,-0.45410171258353266,0.013360617935080938,-0.48728049493791686,-0.1865886132788779,-0.35484909727016123,-0.337365977376106,-0.41622724396285843,-0.40929285962784984,-0.5816271545612973,-0.3490764796200182,-0.2868326481740194,0.4299231992253501,-0.35165301025184725,-0.3450562690129003,-0.25619732202280343,0.5178602004273749,0.4968591671824086,-0.10090194404168641,0.5139193528071089,0.4971977034661677,0.411466082475784,0.40099020891996834,0.49395170143544226,0.4905226412926827,0.2656522386929439,0.5024755223514437,-0.2586715917364551,0.4156428895860138,0.48660230069668886,0.414632229559844,1.9178456522451404,0.4948268855876233,0.4212714062876177,-0.25839423880997847,0.4976323790724519,0.4983103749194069,0.5073667489014871,0.409637402310077,1.0293245552118013,0.41927680558713193,0.49241456170072134,0.2617552789148958,-0.25013544227688284,-0.021703796828339287,1.174196550713955,1.122447787286076,0.2717394617164001,1.0233008301736077,0.26063897037714656,0.29449404468319657,0.42467370709222224,-0.25894608901564425,0.2657897895983675,0.26877244104973746,0.411720483031778,0.5029323697123576,0.4924831792156237,1.0232198659687486,0.4854725852702833,0.4173096994746897,0.2758074487921444,-0.255395974720287,0.48934200509432363,-0.013997269875179862,-0.2444515297916448,0.49382606877251256,0.4905619596977609,1.1736956031338572,0.48111027470180884,0.4093000932360194,-0.08665300236132181,0.49467221525133004,1.0052483975478201,1.2513735630323506,0.43275329784692035,0.49293691856598193,0.2654317701962641,0.42112628143315073,-0.2680512171849448,0.49708426862857835,0.12415572117211345,0.4167187069481405,-0.2532558207178712,-0.24958585226003976,0.414315314938214,0.5149092361207221,0.2621886147396335,0.28637959238871513,1.0113267921929525,1.0175305580645535,0.2772724254807515,-0.11009665241720348,0.4845945726903936,0.4962387749195435,0.41383209132064364,-0.2563284989693064,0.49619986394338206,0.5089219012547758,0.4241593889162396,-0.11746823398377969,0.49317673038958265,-0.11577284208878201,0.41651744198695795,0.42551375012177317,1.0139691300583609,1.0371448510245544,0.40901038454639305,1.916425037212178,1.0298859599724868,0.41252493834485,-0.2670700323527946,1.7792910516827578,0.5027460002859938,0.26171700256213126,0.2890180960668724,0.41247223119750137,-0.08485173143139225,0.49943526029358143,0.5061398067342787,0.2775054167515829,-0.2579436528361404,0.4250540561867647,0.26373175442496943,-0.11496867543174968,1.0423357148275496,0.4880847700031018,0.26410751593598647,1.2473792639416545,0.4889495888926714,-0.021077645032774303,1.0159028904967613,-0.11389924110173626,0.41319837464922804,0.49989081323891343,0.506228214169951,0.4792792489950132,0.4905178685517695,0.2557565177662693,0.4946305422319702,0.6415015680803257,-0.029417442063500467,0.4984406957923535,1.3888540229083168,0.49118463316799454,1.1617562959747545,0.5118563296436707,1.2429324102164983,-0.24693012565236092,0.4129381683731999,-0.2549367545987059,0.26433989360196714,-0.030906395028518146,0.2835724795394936,0.5073612136911071,0.4977743959163632,0.4090621985060442,0.2804292213135659,0.411559542235216,1.023119012037998,0.4930938791828368,0.2867515778451683,0.4948375395062742,0.4970411552011807,-0.26411612084555564,0.4233796360562738,-0.013503756452701835,0.5093312789494889,0.2783461768846364,0.26998480355774546,0.4310651912449265,1.2759590137681334,1.0230327068533394,0.4320875480634304,0.5053866181605177,0.28184758523089803,0.4196785821132226,0.5145430291647244,0.28251554076405316,0.5004670681684531,0.6562468243912988,0.4931094435830336,0.7347553391488345,-0.2547226691341395,1.0378041724099663,0.26526980549377416,1.1685519112678302,1.1563958300078758,0.48968027374058953,0.2703518946282479,0.5043217050295189,0.2585253996286909,1.2572026185184417,1.0143511348100678,-0.26008698743465486,0.5111604358007836,0.4922223593347448,-0.10545717407964005,0.5174340282506031,0.4938235562204218,0.41318754382501277,-0.11876574705228801,0.4829235764460766,0.4850474369994402,0.2567656619266976,-0.02774169122465615,-0.262358801270194,0.41090366288236363,0.49252485223498343,-0.10985625420833062,1.9127650789764081,0.492955219840589,0.42082779880435817,-0.25159369283817967,0.49322348295228097,0.49982417012895414,0.5085085314350026,-0.11213059874234621,1.0324719816469845,0.4187163303069158,0.4920394228677478,0.26402694388581865,-0.2478748023607562,-0.014866332431708346,1.1688655962338672,1.128854437483253,-0.25631253416259514,1.0257488997147979,0.2658377421511888,0.2899971695748164,-0.10185808332553362,-0.25890247168308034,0.25671996956269894,0.26793224915557035,0.42076618699961266,0.49890679090586126,0.4945352688775644,1.0138783680084071,0.48824591492480696,0.41930878426004903,0.272004571451572,-0.2620756426236832,0.49346582547435813,-0.011957238247156306,-0.24453042803826214,0.4915133171675022,0.5002832112941799,1.1813838288124092,0.4852425803649699,0.41343492959765693,-0.08777096655623572,0.49824167287360793,1.0088894499773258,1.2508590869185587,0.4280433974726733,0.497734053605357,0.2659191529498968,0.41722828867598166,-0.2586163811102086,0.49236186362656553,0.11917860881168123,0.4213836502082772,-0.2550740349944757,-0.2543992135425868,0.4185699873159403,0.5160958269037312,0.25836757591587745,0.2810139433798463,1.0063763356720232,1.0252449748423749,0.28097020440224485,-0.102771963204749,0.49650754895880445,0.49688827124028256,0.4097609599415722,-0.25956941238350023,0.4888130891127546,0.5032077692524369,0.4286738300493383,-0.11567071188883529,0.49199401008659605,-0.11414620750011038,0.4143170922404162,0.41978546690769686,1.0149526695047928,1.0408829631838612,0.4099111643393777,1.9153462153381475,1.0227084887923197,0.40812586728935224,-0.26864203362729916,1.7722959396575086,0.5014726123585126,0.26136583093237586,0.2905432049872553,0.4158889537234973,-0.09310146536928159,0.48948713902198354,0.5056805684663119,0.27705033761967846,-0.25586700051251693,0.4283903918199807,0.26645269280776285,-0.11991541941046513,1.0418088829506078,0.48235917542531104,0.26159976075686936,1.2442248408695071,0.5005844860579101,-0.01651899110864668,1.02348645527689,-0.11203993111785142,0.41459084519652395,0.5044664377292944,0.5084401753565609,0.26371699868157394,-1.3926330672106115,-1.236146046122725,0.4128905226228039,0.4143960086334192,0.25907588283323174,-0.14970365148323247,-0.24236060461124642,-0.6414807787188839,0.2860313708317061,0.26796948345602095,-0.12810872387709543,0.26831188114661003,-0.2365139558808581,-1.39724668847091,-0.07284811475806556,0.2755448788286418,0.2819179981943887,-0.5121085579884481,0.2889336535366819,-0.9694883551680626,-0.14964827384598406,0.28207044463463093,-0.62892842892364,-0.9790355931012673,-0.6626233249025952,0.2694130054935008,-0.6552349216343815,-0.8234488689197454,-1.2409262105958467,-1.398123938581333,0.26641758797790427,0.4158874741505277,0.26003548229602447,-0.2443863361629162,0.2607546200375942,-0.5020635167784725,-0.5004139570388969,-1.3915326962599948,-0.1277457919426554,0.2802252767892907,-0.6491024619139686,-0.5176818731369985,-0.22067529803665412,-1.3886841809010675,0.41326299096587754,-0.23465077541695056,-0.6395041815637726,0.4397734100545085,0.2728465497211342,0.2848547902707577,-1.2351096506643287,-0.512984170588092,-0.510850791772481,0.2699937082151423,-0.09199913195907493,-0.6568896916355264,0.267116628996279,0.26899022091013175,0.2625742013153235,-0.5091829398314914,0.41839774188173545,-0.08241872443602301,-1.3945808209229396,-0.09728782703453064,0.43794669234839134,0.004018552452835669,0.4215259829278068,0.26788462155156023,0.26557067902961967,0.25991205538275985,0.2683694645335237,-0.9781357064959806,-1.3901323086684583,-0.002414753583844396,-0.23427089106264268,-0.6596007958804534,0.2657396403690739,0.2664592428508782,-0.505614357250525,-0.9747106475514742,0.009555693499635174,-0.23523640881731428,0.4075360475333474,-0.8303534621851162,-0.9693848670401838,-0.6527448904177922,-0.2169633679034233,0.408830723100954,0.412753278519806,0.25695680409397453,-0.6515391995979373,-0.2404025883135887,0.25798784042618583,-0.969228428474881,-0.6565075652387817,0.42837280764887625,-0.6524191746374168,0.4200470220384643,0.4209055061340455,-0.8229090948943824,-0.9864551090742791,-1.2335976418301764,0.42947426601777117,-1.3860323157002183,-0.09937936581977988,-0.23870880670979128,0.27159128698406476,0.26741925261474814,0.4170823922788546,-1.4030163560483067,0.2734847323310375,0.2646229978093205,-0.2351539378199068,-0.9832807562899387,-0.012375668139247746,0.2587284328188827,-0.8287679233037252,-0.09750577390592707,0.41160926301704664,0.2693432061348611,0.28530007155756776,-0.9814896081539148,-0.0939297480941479,-0.23755839910172571,-0.6535904232917586,-0.23467624941271664,-0.6556268549494133,0.4135181358449529,-1.392769910085725,0.40786965313838436,0.42520172988609384,0.004902975284417526,-1.2517672218357674,-1.2355422512391776,0.40878309549694397,-1.3981675559138973,0.2868810047090478,0.2704485168373929,0.268897924848051,-0.4809373638489357,-0.21997980254949098,-0.23916775632171844,-0.0788543282106979,-0.21701322847667717,0.4207923780988813,-0.9670998314733765,0.2655483584103738,-0.980126910529871,-0.6633405546237322,0.42805366005800227,0.2608781776690894,-0.2365517402738093,-0.23600887638427637,0.00902975481039133,0.4122185568182027,-0.09470369523407966,-0.23986724393394193,-1.2395620243256398,0.26450122655322067,-1.3858464019408963,-0.1505932573568048,-0.6426772308593381,-0.01329803330158992,-0.6405377304480748,-0.5105442886007964,-0.14117210775357153,-0.2353363060480172,-0.9700872375192738,0.27154489566294926,0.4250129695526771,-0.23281813034576182,-0.9691184356698513,0.41914162744237565,-0.6559539286577211,-0.2443118947815936,0.2599707080415658,-0.5057537126777295,0.4117666038432397,-1.3916695119155298,0.4345962055034381,0.26898532652418095,0.4093834574211245,-1.3880635461694963,-1.2423363869592843,-0.2214955420722425,0.4115229124664233,-0.244326483513987,0.2630255497586286,-0.22820826699364108,-1.3950698593337374,-0.6405568032653418,-1.3935251002840083,0.022174427840537896,0.41711974822434283,0.26304129311518054,0.2772484401311479,-0.21980013203085894,0.42267951669281373,-0.14007825055329873,-0.6316112761110566,-0.48259526000702185,0.2797070790600924,0.40470956413762643,-0.1377863490677574,-1.232413274943218,-0.22590413138998794,-0.1526192957109,0.2920417887863654,-0.23961150359640151,0.4152168299810869,-0.6538976889329106,-0.23974221580266997,-0.6567628408360877,-0.6608382983622235,-0.8249419628744395,-0.23174244370186567,-0.0016041857483128866,-0.07370557494771872,0.39969256513322954,-0.9795110576124069,0.2865193671901897,0.0014077829592671282,0.2584615185619299,0.2793826939880706,0.4195842110197072,-0.8360738646477239,0.011203913457664444,0.26647082707136777,-0.09876783904937984,0.27652868878472736,-0.22910532517121918,0.4158515887048162,0.41414561834887126,0.2707998282585718,0.2640678998016757,-0.967377026462044,0.4103652104921611,-0.974065021710758,-0.24918140524404914,0.4211314916947197,-0.4995076783283036,-0.1519574073342398,0.2607762054069517,-0.6627847032198129,0.4161728476198966,-0.5103108779556945,0.275740004047786,0.28096023047295543,-0.0009122720851329163,0.42049926366946694,0.2626157073236812,-0.9739402459427539,-1.2330339006015956,0.4174362253253171,0.41640611847357484,-0.15596307457492886,-0.15344296363266222,-0.23926394101020776,-0.6383512160376521,0.28797330067761484,0.2638276504574191,-0.13007075044619915,0.2729306763757064,-0.6507730206376297,-1.3976844993073285,-0.07052658921388869,0.27844325476082304,0.27828988791330456,-0.09389835580650306,-0.12758292497927493,-0.9719559169007898,-0.15306812252892144,0.2821210586041591,-0.6261251774812484,-1.3947719812366024,-0.6624193803783199,-0.143124746778658,-0.6538043417453231,-1.240814720071461,-1.243725591558215,-1.3969782855677948,0.26318962578532495,0.41593838584928844,0.25828082413736986,-0.24625502461762533,0.26124795737587725,-0.08798681117661863,-0.081782914586787,-1.38811790897401,0.2866712181719671,0.2819273857384058,-0.645526900842424,-0.10417517015080138,-0.6379914284065391,-1.391584045479411,0.4135575940414545,-0.6467928455390923,-0.637977435132611,0.4417233785896951,0.26967962202122114,0.28548835807755696,-1.2324847390322153,-0.5158289552584202,-0.09249232043274173,0.2738748883438671,-0.5046451088072542,-0.2370229330770413,0.2704663624449582,0.2660954177287407,0.2635117415953313,-0.5060748136550008,0.41714163132293297,-0.5002444093141706,-1.3955658490155343,-0.09854989217798349,0.4391234580667277,0.423758031764419,0.42453928234374033,0.26840907159464156,0.26239184216040595,0.2644270919743235,0.2687390953756953,-1.3965721828946398,-1.3869281648144807,0.41172120013528074,-0.23444015013132946,-0.24174771991291433,0.2669537711060913,0.2626980476028584,-0.08911400497774062,-1.3935350651401044,0.012799733070770447,-0.653384981048128,0.40879260468599876,-0.829334046366166,-1.389351662620795,-0.6540303273059976,-0.22075805769010137,0.40754722145275984,0.4109621485301677,-0.1548972129957057,-0.6485090784803662,-0.6541549179166137,0.2565145363922613,-0.9742534752417492,-0.6531998116118874,0.43041849613231764,-0.23590869957072672,0.4227707797757736,0.42021790047154417,-1.2401056869774114,-0.9837045557060431,-1.2323602882130225,0.43296988679038456,-0.9712435997119895,-0.10349589183361765,-0.6522841362840841,0.2713994004937066,-0.15042667785121075,0.4151636853130824,-0.989013487296117,0.2706506659130801,0.264678375446569,-0.6506232628336726,-1.4004777949668166,0.40629690754079856,0.2602526485515681,-0.8285809493457036,-0.5145856561298087,-0.0008888912671873082,0.2697432053587497,0.2853701867918259,-0.9817103743798274,-0.09764241347726725,-0.650002217801025,-0.2398608699750214,-0.6493637374618894,-0.24028346940100276,0.4137479828124571,-1.3960391077770082,0.4075877035551894,0.42853672573776347,0.41981495117490897,-1.2533408606210512,-0.8191413405300544,0.4073328654785394,-1.3956533995562805,0.28672871620661466,0.26840357267703285,0.2736618630780001,-0.480487792707833,-0.21705388666330175,-0.2394117454277673,-0.4968361720713012,-0.21997710484001262,0.41629356775049,-1.3833119818490833,0.2655571414227331,-1.3953872296224088],\"z\":[0,0,1,0,0,1,0,0,2,2,2,2,0,1,0,2,1,0,0,0,0,0,1,0,0,1,2,2,0,1,0,0,0,1,0,1,0,0,0,0,0,2,1,0,2,0,1,2,1,2,1,0,0,1,0,1,0,0,0,2,0,0,0,0,0,0,2,2,0,0,0,1,0,2,0,0,0,0,1,0,0,0,2,2,1,0,0,0,0,0,0,0,2,0,0,0,2,0,0,0,2,1,0,0,0,0,0,0,2,2,0,0,0,2,0,0,2,0,0,0,0,0,1,1,0,0,2,0,0,2,0,0,1,0,2,0,0,1,0,2,2,0,0,0,0,0,2,2,0,0,1,0,0,0,0,0,0,2,0,1,0,0,0,0,0,0,0,0,0,0,1,0,0,1,0,2,2,0,0,1,0,0,1,0,0,0,0,1,2,0,0,1,0,0,0,0,2,2,0,0,1,2,0,0,1,0,1,0,2,0,0,2,0,0,1,2,0,0,2,2,2,0,0,0,0,0,0,0,0,0,0,1,1,2,1,1,0,2,0,0,2,0,0,2,2,0,0,1,0,0,2,2,0,0,0,1,1,0,0,2,0,0,0,2,1,1,1,2,0,0,0,0,0,0,2,0,2,2,0,0,0,0,1,0,0,2,0,0,2,0,2,0,0,0,0,0,0,1,0,0,2,2,1,1,1,0,2,2,0,2,1,1,0,2,1,0,1,2,0,2,2,2,1,1,0,1,0,0,0,0,0,2,0,2,0,0,2,0,0,2,0,2,0,0,1,2,0,2,1,0,2,0,0,0,0,1,0,0,2,0,0,1,0,0,1,1,0,0,0,0,0,0,2,0,0,0,2,0,0,2,0,0,2,0,1,2,0,0,0,0,0,2,0,0,0,0,0,2,2,2,0,0,0,1,1,2,0,0,2,0,0,0,1,1,0,0,1,0,0,0,0,0,1,0,0,0,1,0,0,2,1,0,0,2,0,2,2,0,1,2,0,0,0,1,0,2,0,1,0,0,0,0,0,0,0,0,0,1,0,0,0,0,2,0,0,0,2,0,0,1,2,0,1,0,2,0,1,0,1,0,2,1,2,2,0,0,0,0,1,0,0,0,2,1,1,0,0,1,2,2,0,0,0,1,2,1,0,0,0,0,0,0,0,2,1,2,1,0,0,0,0,0,0,0,2,0,2,1,0,1,1,0,2,0,0,0,0,0,0,2,0,1,1,1,1,0,0,0,2,0,0,1,2,0,2,1,0,0,1,1,0,1,2,0,0,2,2,0,1,0,2,1,2,2,1,0,2,0,0,2,0,1,0,1,0,0,1,1,2,0,2,0,2,2,0,2,0,1,1,0,2,0,2,0,0,0,0,0,0,1,0,2,0,0,2,0,0,1,2,2,0,0,0,0,0,0,0,0,0,1,0,0,0,2,2,1,0,0,0,1,2,1,0,0,0,0,0,0,0,1,0,1,0,0,1,0,1,0,0,0,0,0,0,0,2,0,0,0,1,1,1,0,0,0,1,0,0,2,1,0,2,0,0,0,1,0,0,0,0,0,0,2,0,1,0,1,1,2,0,0,2,1,2,0,0,0,0,0,0,1,0,0,0,1,0,0,0,0,0,0,0,0,2,2,0,2,2,0,2,0,0,1,2,0,2,2,0,1,0,2,0,1,0,0,0,1,0,2,1,0,0,2,2,0,0,0,1,0,1,0,2,0,1,0,0,2,2,2,0,1,2,0,0,0,1,2,0,0,0,2,0,0,1,2,2,1,1,0,0,0,0,0,2,0,0,2,0,2,0,1,0,2,2,1,2,0,2,0,0,2,0,2,0,0,0,2,0,0,0,0,2,0,1,1,0,2,2,0,0,0,0,0,0,2,2,0,2,2,1,0,1,1,0,1,0,1,0,0,1,1,0,1,1,1,0,0,0,1,0,0,0,2,0,1,1,0,0,0,0,2,0,0,0,0,0,2,0,0,0,1,0,2,0,2,0,2,0,0,0,1,0,0,1,0,0,0,0,2,2,0,0,2,0,0,0,0,1,2,2,2,0,2,0,0,1,0,1,0,0,0,0,0,0,0,2,0,0,0,1,1,1,2,0,0,2,0,2,2,0,0,0,1,0,1,2,2,0,0,2,0,2,0,2,0,0,0,1,1,1,0,0,0,0,1,2,0,1,0,0,1,0,1,2,0,2,2,2,0,1,0,0,0,0,0,1,0,0,2,0,1,1,1,2,0,0,2,0,0,1,0,2,0,0,0,0,0,0,0,2,0,0,0,0,0,0,0,0,0,0,0,0,0,0,2,2,0,0,0,0,0,0,0,0,0,0,2,0,0,0,0,0,0,0,0,0,0,0,0,0,2,2,0,0,0,2,0,2,0,2,2,0,0,0,0,0,0,0,0,0,0,0,2,0,0,0,0,0,0,0,2,0,0,0,0,0,0,0,0,0,0,0,0,0,0,0,0,0,0,0,2,0,0,0,0,0,0,0,0,0,0,0,0,0,0,0,0,0,0,0,0,0,0,0,0,0,0,0,0,0,0,0,1,0,0,0,0,0,0,0,0,0,0,0,0,0,0,0,0,0,0,0,0,0,0,0,0,0,0,0,0,0,0,0,0,0,0,0,0,0,0,0,0,1,0,0,0,0,0,0,1,1,0,0,2,0,1,0,1,0,1,0,0,0,1,0,1,0,0,0,0,0,0,0,0,0,0,0,0,1,0,0,0,0,0,0,0,0,0,0,0,0,0,1,0,0,0,0,0,0,0,0,0,0,0,0,0,0,0,0,2,0,0,0,0,0,0,1,1,0,0,0,0,0,2,0,0,0,1,0,0,0,0,0,0,0,0,0,0,0,0,0,0,0,0,0,0,1,0,0,0,1,0,0,0,0,0,0,0,0,0,0,0,0,0,1,0,0,0,0,0,1,2,0,1,2,0,2,2,0,0,2,0,1,2,0,2,2,0,2,1,0,2,0,2,2,2,0,2,1,0,2,2,2,2,2,2,2,1,2,2,2,0,0,2,0,2,2,1,0,0,1,0,0,2,0,2,1,0,2,2,2,0,2,2,1,0,0,2,1,1,2,0,2,2,2,2,2,1,0,2,2,1,0,0,2,1,0,1,2,2,2,2,2,2,2,2,1,2,0,2,2,2,1,0,0,2,1,2,2,1,2,2,2,2,0,0,2,1,2,0,0,0,0,2,0,0,0,0,2,0,2,0,2,1,2,1,2,0,2,0,0,2,2,2,2,2,2,2,2,1,2,0,0,2,2,2,2,2,2,2,2,2,0,2,0,0,0,0,1,2,2,2,2,2,2,0,2,2,2,1,2,0,1,2,0,2,1,0,0,2,0,1,2,0,1,2,0,2,1,0,2,0,1,2,2,0,2,1,0,2,2,1,2,2,2,1,1,2,2,2,0,0,2,0,2,2,1,0,0,1,0,0,2,0,2,1,0,2,2,2,0,2,2,1,0,0,2,1,1,2,0,2,2,2,2,2,1,0,2,2,1,0,0,2,1,0,1,2,2,2,2,2,2,2,2,1,2,0,2,2,2,1,0,0,2,1,2,2,1,2,2,2,2,0,0,2,1,2,0,0,2,1,1,2,2,2,2,1,1,2,2,2,2,1,1,1,2,2,1,2,1,2,2,1,1,1,2,1,1,1,1,2,2,2,1,2,1,1,1,2,2,1,1,1,1,2,1,1,2,2,2,1,1,1,2,1,1,2,2,2,1,2,1,1,1,2,2,2,2,2,2,2,1,1,2,1,1,2,2,1,1,2,1,2,1,1,1,1,2,2,2,1,1,2,1,1,2,1,2,2,1,1,1,2,1,1,1,2,2,2,1,2,2,1,1,2,2,1,1,2,2,2,1,1,1,1,1,1,2,1,2,2,2,1,1,2,1,2,2,2,1,1,1,1,1,2,1,2,1,1,2,2,1,1,2,2,1,1,1,2,1,2,1,2,1,1,2,1,1,2,2,1,1,2,1,1,2,1,2,1,2,2,2,1,1,1,2,1,2,1,1,1,1,2,2,2,2,1,2,2,1,1,2,2,2,1,1,2,2,1,2,1,1,1,1,1,1,2,1,2,1,2,2,2,2,2,1,2,2,1,2,1,2,2,2,2,1,2,1,1,2,1,2,2,1,2,1,2,2,2,2,2,1,1,2,2,2,2,1,1,2,2,2,2,1,1,1,2,2,1,2,1,2,2,1,1,1,2,1,1,1,1,2,2,2,1,2,1,1,1,2,2,1,1,1,1,2,1,1,2,2,2,1,1,1,2,1,1,2,2,2,1,2,1,1,1,2,2,2,2,2,2,2,1,1,2,1,1,2,2,1,1,2,1,2,1,1,1,1,2,2,2,1,1,2,1,1,2,1,2,2,1,1,1,2,1,1,1,2,2,2,1,2,2,1,1,2,2,1,1,2,2,2,1,1,1,1,1,1,2,1,2,2,2,1,1,2,1,2,2,2,1,1,1,1,1,2,1,2,1],\"type\":\"scatter3d\"}],                        {\"template\":{\"data\":{\"histogram2dcontour\":[{\"type\":\"histogram2dcontour\",\"colorbar\":{\"outlinewidth\":0,\"ticks\":\"\"},\"colorscale\":[[0.0,\"#0d0887\"],[0.1111111111111111,\"#46039f\"],[0.2222222222222222,\"#7201a8\"],[0.3333333333333333,\"#9c179e\"],[0.4444444444444444,\"#bd3786\"],[0.5555555555555556,\"#d8576b\"],[0.6666666666666666,\"#ed7953\"],[0.7777777777777778,\"#fb9f3a\"],[0.8888888888888888,\"#fdca26\"],[1.0,\"#f0f921\"]]}],\"choropleth\":[{\"type\":\"choropleth\",\"colorbar\":{\"outlinewidth\":0,\"ticks\":\"\"}}],\"histogram2d\":[{\"type\":\"histogram2d\",\"colorbar\":{\"outlinewidth\":0,\"ticks\":\"\"},\"colorscale\":[[0.0,\"#0d0887\"],[0.1111111111111111,\"#46039f\"],[0.2222222222222222,\"#7201a8\"],[0.3333333333333333,\"#9c179e\"],[0.4444444444444444,\"#bd3786\"],[0.5555555555555556,\"#d8576b\"],[0.6666666666666666,\"#ed7953\"],[0.7777777777777778,\"#fb9f3a\"],[0.8888888888888888,\"#fdca26\"],[1.0,\"#f0f921\"]]}],\"heatmap\":[{\"type\":\"heatmap\",\"colorbar\":{\"outlinewidth\":0,\"ticks\":\"\"},\"colorscale\":[[0.0,\"#0d0887\"],[0.1111111111111111,\"#46039f\"],[0.2222222222222222,\"#7201a8\"],[0.3333333333333333,\"#9c179e\"],[0.4444444444444444,\"#bd3786\"],[0.5555555555555556,\"#d8576b\"],[0.6666666666666666,\"#ed7953\"],[0.7777777777777778,\"#fb9f3a\"],[0.8888888888888888,\"#fdca26\"],[1.0,\"#f0f921\"]]}],\"heatmapgl\":[{\"type\":\"heatmapgl\",\"colorbar\":{\"outlinewidth\":0,\"ticks\":\"\"},\"colorscale\":[[0.0,\"#0d0887\"],[0.1111111111111111,\"#46039f\"],[0.2222222222222222,\"#7201a8\"],[0.3333333333333333,\"#9c179e\"],[0.4444444444444444,\"#bd3786\"],[0.5555555555555556,\"#d8576b\"],[0.6666666666666666,\"#ed7953\"],[0.7777777777777778,\"#fb9f3a\"],[0.8888888888888888,\"#fdca26\"],[1.0,\"#f0f921\"]]}],\"contourcarpet\":[{\"type\":\"contourcarpet\",\"colorbar\":{\"outlinewidth\":0,\"ticks\":\"\"}}],\"contour\":[{\"type\":\"contour\",\"colorbar\":{\"outlinewidth\":0,\"ticks\":\"\"},\"colorscale\":[[0.0,\"#0d0887\"],[0.1111111111111111,\"#46039f\"],[0.2222222222222222,\"#7201a8\"],[0.3333333333333333,\"#9c179e\"],[0.4444444444444444,\"#bd3786\"],[0.5555555555555556,\"#d8576b\"],[0.6666666666666666,\"#ed7953\"],[0.7777777777777778,\"#fb9f3a\"],[0.8888888888888888,\"#fdca26\"],[1.0,\"#f0f921\"]]}],\"surface\":[{\"type\":\"surface\",\"colorbar\":{\"outlinewidth\":0,\"ticks\":\"\"},\"colorscale\":[[0.0,\"#0d0887\"],[0.1111111111111111,\"#46039f\"],[0.2222222222222222,\"#7201a8\"],[0.3333333333333333,\"#9c179e\"],[0.4444444444444444,\"#bd3786\"],[0.5555555555555556,\"#d8576b\"],[0.6666666666666666,\"#ed7953\"],[0.7777777777777778,\"#fb9f3a\"],[0.8888888888888888,\"#fdca26\"],[1.0,\"#f0f921\"]]}],\"mesh3d\":[{\"type\":\"mesh3d\",\"colorbar\":{\"outlinewidth\":0,\"ticks\":\"\"}}],\"scatter\":[{\"fillpattern\":{\"fillmode\":\"overlay\",\"size\":10,\"solidity\":0.2},\"type\":\"scatter\"}],\"parcoords\":[{\"type\":\"parcoords\",\"line\":{\"colorbar\":{\"outlinewidth\":0,\"ticks\":\"\"}}}],\"scatterpolargl\":[{\"type\":\"scatterpolargl\",\"marker\":{\"colorbar\":{\"outlinewidth\":0,\"ticks\":\"\"}}}],\"bar\":[{\"error_x\":{\"color\":\"#2a3f5f\"},\"error_y\":{\"color\":\"#2a3f5f\"},\"marker\":{\"line\":{\"color\":\"#E5ECF6\",\"width\":0.5},\"pattern\":{\"fillmode\":\"overlay\",\"size\":10,\"solidity\":0.2}},\"type\":\"bar\"}],\"scattergeo\":[{\"type\":\"scattergeo\",\"marker\":{\"colorbar\":{\"outlinewidth\":0,\"ticks\":\"\"}}}],\"scatterpolar\":[{\"type\":\"scatterpolar\",\"marker\":{\"colorbar\":{\"outlinewidth\":0,\"ticks\":\"\"}}}],\"histogram\":[{\"marker\":{\"pattern\":{\"fillmode\":\"overlay\",\"size\":10,\"solidity\":0.2}},\"type\":\"histogram\"}],\"scattergl\":[{\"type\":\"scattergl\",\"marker\":{\"colorbar\":{\"outlinewidth\":0,\"ticks\":\"\"}}}],\"scatter3d\":[{\"type\":\"scatter3d\",\"line\":{\"colorbar\":{\"outlinewidth\":0,\"ticks\":\"\"}},\"marker\":{\"colorbar\":{\"outlinewidth\":0,\"ticks\":\"\"}}}],\"scattermapbox\":[{\"type\":\"scattermapbox\",\"marker\":{\"colorbar\":{\"outlinewidth\":0,\"ticks\":\"\"}}}],\"scatterternary\":[{\"type\":\"scatterternary\",\"marker\":{\"colorbar\":{\"outlinewidth\":0,\"ticks\":\"\"}}}],\"scattercarpet\":[{\"type\":\"scattercarpet\",\"marker\":{\"colorbar\":{\"outlinewidth\":0,\"ticks\":\"\"}}}],\"carpet\":[{\"aaxis\":{\"endlinecolor\":\"#2a3f5f\",\"gridcolor\":\"white\",\"linecolor\":\"white\",\"minorgridcolor\":\"white\",\"startlinecolor\":\"#2a3f5f\"},\"baxis\":{\"endlinecolor\":\"#2a3f5f\",\"gridcolor\":\"white\",\"linecolor\":\"white\",\"minorgridcolor\":\"white\",\"startlinecolor\":\"#2a3f5f\"},\"type\":\"carpet\"}],\"table\":[{\"cells\":{\"fill\":{\"color\":\"#EBF0F8\"},\"line\":{\"color\":\"white\"}},\"header\":{\"fill\":{\"color\":\"#C8D4E3\"},\"line\":{\"color\":\"white\"}},\"type\":\"table\"}],\"barpolar\":[{\"marker\":{\"line\":{\"color\":\"#E5ECF6\",\"width\":0.5},\"pattern\":{\"fillmode\":\"overlay\",\"size\":10,\"solidity\":0.2}},\"type\":\"barpolar\"}],\"pie\":[{\"automargin\":true,\"type\":\"pie\"}]},\"layout\":{\"autotypenumbers\":\"strict\",\"colorway\":[\"#636efa\",\"#EF553B\",\"#00cc96\",\"#ab63fa\",\"#FFA15A\",\"#19d3f3\",\"#FF6692\",\"#B6E880\",\"#FF97FF\",\"#FECB52\"],\"font\":{\"color\":\"#2a3f5f\"},\"hovermode\":\"closest\",\"hoverlabel\":{\"align\":\"left\"},\"paper_bgcolor\":\"white\",\"plot_bgcolor\":\"#E5ECF6\",\"polar\":{\"bgcolor\":\"#E5ECF6\",\"angularaxis\":{\"gridcolor\":\"white\",\"linecolor\":\"white\",\"ticks\":\"\"},\"radialaxis\":{\"gridcolor\":\"white\",\"linecolor\":\"white\",\"ticks\":\"\"}},\"ternary\":{\"bgcolor\":\"#E5ECF6\",\"aaxis\":{\"gridcolor\":\"white\",\"linecolor\":\"white\",\"ticks\":\"\"},\"baxis\":{\"gridcolor\":\"white\",\"linecolor\":\"white\",\"ticks\":\"\"},\"caxis\":{\"gridcolor\":\"white\",\"linecolor\":\"white\",\"ticks\":\"\"}},\"coloraxis\":{\"colorbar\":{\"outlinewidth\":0,\"ticks\":\"\"}},\"colorscale\":{\"sequential\":[[0.0,\"#0d0887\"],[0.1111111111111111,\"#46039f\"],[0.2222222222222222,\"#7201a8\"],[0.3333333333333333,\"#9c179e\"],[0.4444444444444444,\"#bd3786\"],[0.5555555555555556,\"#d8576b\"],[0.6666666666666666,\"#ed7953\"],[0.7777777777777778,\"#fb9f3a\"],[0.8888888888888888,\"#fdca26\"],[1.0,\"#f0f921\"]],\"sequentialminus\":[[0.0,\"#0d0887\"],[0.1111111111111111,\"#46039f\"],[0.2222222222222222,\"#7201a8\"],[0.3333333333333333,\"#9c179e\"],[0.4444444444444444,\"#bd3786\"],[0.5555555555555556,\"#d8576b\"],[0.6666666666666666,\"#ed7953\"],[0.7777777777777778,\"#fb9f3a\"],[0.8888888888888888,\"#fdca26\"],[1.0,\"#f0f921\"]],\"diverging\":[[0,\"#8e0152\"],[0.1,\"#c51b7d\"],[0.2,\"#de77ae\"],[0.3,\"#f1b6da\"],[0.4,\"#fde0ef\"],[0.5,\"#f7f7f7\"],[0.6,\"#e6f5d0\"],[0.7,\"#b8e186\"],[0.8,\"#7fbc41\"],[0.9,\"#4d9221\"],[1,\"#276419\"]]},\"xaxis\":{\"gridcolor\":\"white\",\"linecolor\":\"white\",\"ticks\":\"\",\"title\":{\"standoff\":15},\"zerolinecolor\":\"white\",\"automargin\":true,\"zerolinewidth\":2},\"yaxis\":{\"gridcolor\":\"white\",\"linecolor\":\"white\",\"ticks\":\"\",\"title\":{\"standoff\":15},\"zerolinecolor\":\"white\",\"automargin\":true,\"zerolinewidth\":2},\"scene\":{\"xaxis\":{\"backgroundcolor\":\"#E5ECF6\",\"gridcolor\":\"white\",\"linecolor\":\"white\",\"showbackground\":true,\"ticks\":\"\",\"zerolinecolor\":\"white\",\"gridwidth\":2},\"yaxis\":{\"backgroundcolor\":\"#E5ECF6\",\"gridcolor\":\"white\",\"linecolor\":\"white\",\"showbackground\":true,\"ticks\":\"\",\"zerolinecolor\":\"white\",\"gridwidth\":2},\"zaxis\":{\"backgroundcolor\":\"#E5ECF6\",\"gridcolor\":\"white\",\"linecolor\":\"white\",\"showbackground\":true,\"ticks\":\"\",\"zerolinecolor\":\"white\",\"gridwidth\":2}},\"shapedefaults\":{\"line\":{\"color\":\"#2a3f5f\"}},\"annotationdefaults\":{\"arrowcolor\":\"#2a3f5f\",\"arrowhead\":0,\"arrowwidth\":1},\"geo\":{\"bgcolor\":\"white\",\"landcolor\":\"#E5ECF6\",\"subunitcolor\":\"white\",\"showland\":true,\"showlakes\":true,\"lakecolor\":\"white\"},\"title\":{\"x\":0.05},\"mapbox\":{\"style\":\"light\"}}},\"scene\":{\"domain\":{\"x\":[0.0,1.0],\"y\":[0.0,1.0]},\"xaxis\":{\"title\":{\"text\":\"Dimension 1\"}},\"yaxis\":{\"title\":{\"text\":\"Dimension 2\"}},\"zaxis\":{\"title\":{\"text\":\"Cluster\"}}},\"coloraxis\":{\"colorbar\":{\"title\":{\"text\":\"Cluster\"}},\"colorscale\":[[0.0,\"#0d0887\"],[0.1111111111111111,\"#46039f\"],[0.2222222222222222,\"#7201a8\"],[0.3333333333333333,\"#9c179e\"],[0.4444444444444444,\"#bd3786\"],[0.5555555555555556,\"#d8576b\"],[0.6666666666666666,\"#ed7953\"],[0.7777777777777778,\"#fb9f3a\"],[0.8888888888888888,\"#fdca26\"],[1.0,\"#f0f921\"]]},\"legend\":{\"tracegroupgap\":0},\"margin\":{\"t\":60}},                        {\"responsive\": true}                    ).then(function(){\n",
              "                            \n",
              "var gd = document.getElementById('ec4e43b5-96bc-44dc-acc2-65390e969d3c');\n",
              "var x = new MutationObserver(function (mutations, observer) {{\n",
              "        var display = window.getComputedStyle(gd).display;\n",
              "        if (!display || display === 'none') {{\n",
              "            console.log([gd, 'removed!']);\n",
              "            Plotly.purge(gd);\n",
              "            observer.disconnect();\n",
              "        }}\n",
              "}});\n",
              "\n",
              "// Listen for the removal of the full notebook cells\n",
              "var notebookContainer = gd.closest('#notebook-container');\n",
              "if (notebookContainer) {{\n",
              "    x.observe(notebookContainer, {childList: true});\n",
              "}}\n",
              "\n",
              "// Listen for the clearing of the current output cell\n",
              "var outputEl = gd.closest('.output');\n",
              "if (outputEl) {{\n",
              "    x.observe(outputEl, {childList: true});\n",
              "}}\n",
              "\n",
              "                        })                };                            </script>        </div>\n",
              "</body>\n",
              "</html>"
            ]
          },
          "metadata": {}
        }
      ]
    },
    {
      "cell_type": "code",
      "source": [
        "model5 = AgglomerativeClustering(metric='euclidean', linkage='single', compute_distances=True)\n",
        "model5.fit(data)"
      ],
      "metadata": {
        "colab": {
          "base_uri": "https://localhost:8080/",
          "height": 92
        },
        "id": "CNhqluzsLOqs",
        "outputId": "b18017de-f26e-4013-8975-2f608f7676a1"
      },
      "execution_count": null,
      "outputs": [
        {
          "output_type": "execute_result",
          "data": {
            "text/plain": [
              "AgglomerativeClustering(compute_distances=True, linkage='single',\n",
              "                        metric='euclidean')"
            ],
            "text/html": [
              "<style>#sk-container-id-4 {color: black;background-color: white;}#sk-container-id-4 pre{padding: 0;}#sk-container-id-4 div.sk-toggleable {background-color: white;}#sk-container-id-4 label.sk-toggleable__label {cursor: pointer;display: block;width: 100%;margin-bottom: 0;padding: 0.3em;box-sizing: border-box;text-align: center;}#sk-container-id-4 label.sk-toggleable__label-arrow:before {content: \"▸\";float: left;margin-right: 0.25em;color: #696969;}#sk-container-id-4 label.sk-toggleable__label-arrow:hover:before {color: black;}#sk-container-id-4 div.sk-estimator:hover label.sk-toggleable__label-arrow:before {color: black;}#sk-container-id-4 div.sk-toggleable__content {max-height: 0;max-width: 0;overflow: hidden;text-align: left;background-color: #f0f8ff;}#sk-container-id-4 div.sk-toggleable__content pre {margin: 0.2em;color: black;border-radius: 0.25em;background-color: #f0f8ff;}#sk-container-id-4 input.sk-toggleable__control:checked~div.sk-toggleable__content {max-height: 200px;max-width: 100%;overflow: auto;}#sk-container-id-4 input.sk-toggleable__control:checked~label.sk-toggleable__label-arrow:before {content: \"▾\";}#sk-container-id-4 div.sk-estimator input.sk-toggleable__control:checked~label.sk-toggleable__label {background-color: #d4ebff;}#sk-container-id-4 div.sk-label input.sk-toggleable__control:checked~label.sk-toggleable__label {background-color: #d4ebff;}#sk-container-id-4 input.sk-hidden--visually {border: 0;clip: rect(1px 1px 1px 1px);clip: rect(1px, 1px, 1px, 1px);height: 1px;margin: -1px;overflow: hidden;padding: 0;position: absolute;width: 1px;}#sk-container-id-4 div.sk-estimator {font-family: monospace;background-color: #f0f8ff;border: 1px dotted black;border-radius: 0.25em;box-sizing: border-box;margin-bottom: 0.5em;}#sk-container-id-4 div.sk-estimator:hover {background-color: #d4ebff;}#sk-container-id-4 div.sk-parallel-item::after {content: \"\";width: 100%;border-bottom: 1px solid gray;flex-grow: 1;}#sk-container-id-4 div.sk-label:hover label.sk-toggleable__label {background-color: #d4ebff;}#sk-container-id-4 div.sk-serial::before {content: \"\";position: absolute;border-left: 1px solid gray;box-sizing: border-box;top: 0;bottom: 0;left: 50%;z-index: 0;}#sk-container-id-4 div.sk-serial {display: flex;flex-direction: column;align-items: center;background-color: white;padding-right: 0.2em;padding-left: 0.2em;position: relative;}#sk-container-id-4 div.sk-item {position: relative;z-index: 1;}#sk-container-id-4 div.sk-parallel {display: flex;align-items: stretch;justify-content: center;background-color: white;position: relative;}#sk-container-id-4 div.sk-item::before, #sk-container-id-4 div.sk-parallel-item::before {content: \"\";position: absolute;border-left: 1px solid gray;box-sizing: border-box;top: 0;bottom: 0;left: 50%;z-index: -1;}#sk-container-id-4 div.sk-parallel-item {display: flex;flex-direction: column;z-index: 1;position: relative;background-color: white;}#sk-container-id-4 div.sk-parallel-item:first-child::after {align-self: flex-end;width: 50%;}#sk-container-id-4 div.sk-parallel-item:last-child::after {align-self: flex-start;width: 50%;}#sk-container-id-4 div.sk-parallel-item:only-child::after {width: 0;}#sk-container-id-4 div.sk-dashed-wrapped {border: 1px dashed gray;margin: 0 0.4em 0.5em 0.4em;box-sizing: border-box;padding-bottom: 0.4em;background-color: white;}#sk-container-id-4 div.sk-label label {font-family: monospace;font-weight: bold;display: inline-block;line-height: 1.2em;}#sk-container-id-4 div.sk-label-container {text-align: center;}#sk-container-id-4 div.sk-container {/* jupyter's `normalize.less` sets `[hidden] { display: none; }` but bootstrap.min.css set `[hidden] { display: none !important; }` so we also need the `!important` here to be able to override the default hidden behavior on the sphinx rendered scikit-learn.org. See: https://github.com/scikit-learn/scikit-learn/issues/21755 */display: inline-block !important;position: relative;}#sk-container-id-4 div.sk-text-repr-fallback {display: none;}</style><div id=\"sk-container-id-4\" class=\"sk-top-container\"><div class=\"sk-text-repr-fallback\"><pre>AgglomerativeClustering(compute_distances=True, linkage=&#x27;single&#x27;,\n",
              "                        metric=&#x27;euclidean&#x27;)</pre><b>In a Jupyter environment, please rerun this cell to show the HTML representation or trust the notebook. <br />On GitHub, the HTML representation is unable to render, please try loading this page with nbviewer.org.</b></div><div class=\"sk-container\" hidden><div class=\"sk-item\"><div class=\"sk-estimator sk-toggleable\"><input class=\"sk-toggleable__control sk-hidden--visually\" id=\"sk-estimator-id-4\" type=\"checkbox\" checked><label for=\"sk-estimator-id-4\" class=\"sk-toggleable__label sk-toggleable__label-arrow\">AgglomerativeClustering</label><div class=\"sk-toggleable__content\"><pre>AgglomerativeClustering(compute_distances=True, linkage=&#x27;single&#x27;,\n",
              "                        metric=&#x27;euclidean&#x27;)</pre></div></div></div></div></div>"
            ]
          },
          "metadata": {},
          "execution_count": 21
        }
      ]
    },
    {
      "cell_type": "code",
      "source": [
        "model5.n_clusters"
      ],
      "metadata": {
        "id": "-A3QTM5IQ8co",
        "outputId": "1c5b249b-1a69-4906-93b1-3c4e5cc6ce19",
        "colab": {
          "base_uri": "https://localhost:8080/"
        }
      },
      "execution_count": null,
      "outputs": [
        {
          "output_type": "execute_result",
          "data": {
            "text/plain": [
              "2"
            ]
          },
          "metadata": {},
          "execution_count": 32
        }
      ]
    },
    {
      "cell_type": "code",
      "source": [
        "import numpy as np\n",
        "from scipy.cluster.hierarchy import dendrogram\n",
        "\n",
        "counts = np.zeros(model5.children_.shape[0])\n",
        "n_samples = len(model5.labels_)\n",
        "for i, merge in enumerate(model5.children_):\n",
        "  current_count = 0\n",
        "  for child_idx in merge:\n",
        "    if child_idx < n_samples:\n",
        "      current_count += 1 # leaf node\n",
        "    else:\n",
        "      current_count += counts[child_idx - n_samples]\n",
        "  counts[i] = current_count\n",
        "\n",
        "linkage_matrix = np.column_stack([model5.children_, model5.distances_, counts]).astype(float)\n",
        "# Plot the corresponding dendrogram\n",
        "dendrogram(linkage_matrix, truncate_mode='level', p=6)\n",
        "plt.show()"
      ],
      "metadata": {
        "colab": {
          "base_uri": "https://localhost:8080/",
          "height": 434
        },
        "id": "9AUA30nVLwWW",
        "outputId": "e02973ab-6970-44e5-93aa-a5e5bd99f956"
      },
      "execution_count": null,
      "outputs": [
        {
          "output_type": "display_data",
          "data": {
            "text/plain": [
              "<Figure size 640x480 with 1 Axes>"
            ],
            "image/png": "[encoded data removed]"
          },
          "metadata": {}
        }
      ]
    },
    {
      "cell_type": "code",
      "source": [
        "start = time.time()\n",
        "model2.fit(data)\n",
        "print(\"KMeans Time (k=3): \", time.time()-start)\n",
        "\n",
        "start = time.time()\n",
        "model5.fit(data)\n",
        "print(\"Agglomerative Clustering Time: \", time.time()-start)"
      ],
      "metadata": {
        "colab": {
          "base_uri": "https://localhost:8080/"
        },
        "id": "aOpj5WiONgAB",
        "outputId": "2a15b031-5136-44a8-8331-4ff3f8f286dd"
      },
      "execution_count": null,
      "outputs": [
        {
          "output_type": "stream",
          "name": "stdout",
          "text": [
            "KMeans Time (k=3):  0.016737937927246094\n",
            "Agglomerative Clustering Time:  0.0617372989654541\n"
          ]
        }
      ]
    }
  ]
}